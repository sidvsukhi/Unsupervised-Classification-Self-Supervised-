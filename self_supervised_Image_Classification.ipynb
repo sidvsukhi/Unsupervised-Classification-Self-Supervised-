{
  "cells": [
    {
      "cell_type": "markdown",
      "metadata": {
        "id": "TGDzT0nXtNsj"
      },
      "source": [
        "# Self-Supervised Learning"
      ]
    },
    {
      "cell_type": "markdown",
      "source": [
        "Importing and installing the libraries"
      ],
      "metadata": {
        "id": "WVzNsj0VRjvr"
      }
    },
    {
      "cell_type": "code",
      "source": [
        "!pip install tensorflow-addons\n",
        "!pip install tensorflow_similarity"
      ],
      "metadata": {
        "colab": {
          "base_uri": "https://localhost:8080/"
        },
        "id": "xe09VrWFSBHi",
        "outputId": "95c6d2ec-f1ca-4cd9-8a7b-e82c43139b2e"
      },
      "execution_count": 1,
      "outputs": [
        {
          "output_type": "stream",
          "name": "stdout",
          "text": [
            "Looking in indexes: https://pypi.org/simple, https://us-python.pkg.dev/colab-wheels/public/simple/\n",
            "Collecting tensorflow-addons\n",
            "  Downloading tensorflow_addons-0.19.0-cp38-cp38-manylinux_2_17_x86_64.manylinux2014_x86_64.whl (1.1 MB)\n",
            "\u001b[K     |████████████████████████████████| 1.1 MB 12.5 MB/s \n",
            "\u001b[?25hRequirement already satisfied: packaging in /usr/local/lib/python3.8/dist-packages (from tensorflow-addons) (21.3)\n",
            "Requirement already satisfied: typeguard>=2.7 in /usr/local/lib/python3.8/dist-packages (from tensorflow-addons) (2.7.1)\n",
            "Requirement already satisfied: pyparsing!=3.0.5,>=2.0.2 in /usr/local/lib/python3.8/dist-packages (from packaging->tensorflow-addons) (3.0.9)\n",
            "Installing collected packages: tensorflow-addons\n",
            "Successfully installed tensorflow-addons-0.19.0\n",
            "Looking in indexes: https://pypi.org/simple, https://us-python.pkg.dev/colab-wheels/public/simple/\n",
            "Collecting tensorflow_similarity\n",
            "  Downloading tensorflow_similarity-0.16.9-py3-none-any.whl (207 kB)\n",
            "\u001b[K     |████████████████████████████████| 207 kB 9.0 MB/s \n",
            "\u001b[?25hRequirement already satisfied: matplotlib in /usr/local/lib/python3.8/dist-packages (from tensorflow_similarity) (3.2.2)\n",
            "Collecting umap-learn\n",
            "  Downloading umap-learn-0.5.3.tar.gz (88 kB)\n",
            "\u001b[K     |████████████████████████████████| 88 kB 3.3 MB/s \n",
            "\u001b[?25hRequirement already satisfied: numpy in /usr/local/lib/python3.8/dist-packages (from tensorflow_similarity) (1.21.6)\n",
            "Requirement already satisfied: tabulate in /usr/local/lib/python3.8/dist-packages (from tensorflow_similarity) (0.8.10)\n",
            "Requirement already satisfied: Pillow in /usr/local/lib/python3.8/dist-packages (from tensorflow_similarity) (7.1.2)\n",
            "Requirement already satisfied: tensorflow-datasets>=4.2 in /usr/local/lib/python3.8/dist-packages (from tensorflow_similarity) (4.6.0)\n",
            "Requirement already satisfied: tqdm in /usr/local/lib/python3.8/dist-packages (from tensorflow_similarity) (4.64.1)\n",
            "Requirement already satisfied: bokeh in /usr/local/lib/python3.8/dist-packages (from tensorflow_similarity) (2.3.3)\n",
            "Collecting distinctipy\n",
            "  Downloading distinctipy-1.2.2-py3-none-any.whl (25 kB)\n",
            "Requirement already satisfied: pandas in /usr/local/lib/python3.8/dist-packages (from tensorflow_similarity) (1.3.5)\n",
            "Collecting nmslib\n",
            "  Downloading nmslib-2.1.1-cp38-cp38-manylinux2010_x86_64.whl (13.4 MB)\n",
            "\u001b[K     |████████████████████████████████| 13.4 MB 1.2 MB/s \n",
            "\u001b[?25hRequirement already satisfied: six in /usr/local/lib/python3.8/dist-packages (from tensorflow-datasets>=4.2->tensorflow_similarity) (1.15.0)\n",
            "Requirement already satisfied: dill in /usr/local/lib/python3.8/dist-packages (from tensorflow-datasets>=4.2->tensorflow_similarity) (0.3.6)\n",
            "Requirement already satisfied: termcolor in /usr/local/lib/python3.8/dist-packages (from tensorflow-datasets>=4.2->tensorflow_similarity) (2.1.1)\n",
            "Requirement already satisfied: absl-py in /usr/local/lib/python3.8/dist-packages (from tensorflow-datasets>=4.2->tensorflow_similarity) (1.3.0)\n",
            "Requirement already satisfied: requests>=2.19.0 in /usr/local/lib/python3.8/dist-packages (from tensorflow-datasets>=4.2->tensorflow_similarity) (2.23.0)\n",
            "Requirement already satisfied: tensorflow-metadata in /usr/local/lib/python3.8/dist-packages (from tensorflow-datasets>=4.2->tensorflow_similarity) (1.11.0)\n",
            "Requirement already satisfied: toml in /usr/local/lib/python3.8/dist-packages (from tensorflow-datasets>=4.2->tensorflow_similarity) (0.10.2)\n",
            "Requirement already satisfied: importlib-resources in /usr/local/lib/python3.8/dist-packages (from tensorflow-datasets>=4.2->tensorflow_similarity) (5.10.0)\n",
            "Requirement already satisfied: etils[epath] in /usr/local/lib/python3.8/dist-packages (from tensorflow-datasets>=4.2->tensorflow_similarity) (0.9.0)\n",
            "Requirement already satisfied: protobuf>=3.12.2 in /usr/local/lib/python3.8/dist-packages (from tensorflow-datasets>=4.2->tensorflow_similarity) (3.19.6)\n",
            "Requirement already satisfied: promise in /usr/local/lib/python3.8/dist-packages (from tensorflow-datasets>=4.2->tensorflow_similarity) (2.3)\n",
            "Requirement already satisfied: urllib3!=1.25.0,!=1.25.1,<1.26,>=1.21.1 in /usr/local/lib/python3.8/dist-packages (from requests>=2.19.0->tensorflow-datasets>=4.2->tensorflow_similarity) (1.24.3)\n",
            "Requirement already satisfied: certifi>=2017.4.17 in /usr/local/lib/python3.8/dist-packages (from requests>=2.19.0->tensorflow-datasets>=4.2->tensorflow_similarity) (2022.9.24)\n",
            "Requirement already satisfied: idna<3,>=2.5 in /usr/local/lib/python3.8/dist-packages (from requests>=2.19.0->tensorflow-datasets>=4.2->tensorflow_similarity) (2.10)\n",
            "Requirement already satisfied: chardet<4,>=3.0.2 in /usr/local/lib/python3.8/dist-packages (from requests>=2.19.0->tensorflow-datasets>=4.2->tensorflow_similarity) (3.0.4)\n",
            "Requirement already satisfied: typing-extensions>=3.7.4 in /usr/local/lib/python3.8/dist-packages (from bokeh->tensorflow_similarity) (4.4.0)\n",
            "Requirement already satisfied: Jinja2>=2.9 in /usr/local/lib/python3.8/dist-packages (from bokeh->tensorflow_similarity) (2.11.3)\n",
            "Requirement already satisfied: packaging>=16.8 in /usr/local/lib/python3.8/dist-packages (from bokeh->tensorflow_similarity) (21.3)\n",
            "Requirement already satisfied: python-dateutil>=2.1 in /usr/local/lib/python3.8/dist-packages (from bokeh->tensorflow_similarity) (2.8.2)\n",
            "Requirement already satisfied: tornado>=5.1 in /usr/local/lib/python3.8/dist-packages (from bokeh->tensorflow_similarity) (6.0.4)\n",
            "Requirement already satisfied: PyYAML>=3.10 in /usr/local/lib/python3.8/dist-packages (from bokeh->tensorflow_similarity) (6.0)\n",
            "Requirement already satisfied: MarkupSafe>=0.23 in /usr/local/lib/python3.8/dist-packages (from Jinja2>=2.9->bokeh->tensorflow_similarity) (2.0.1)\n",
            "Requirement already satisfied: pyparsing!=3.0.5,>=2.0.2 in /usr/local/lib/python3.8/dist-packages (from packaging>=16.8->bokeh->tensorflow_similarity) (3.0.9)\n",
            "Requirement already satisfied: zipp in /usr/local/lib/python3.8/dist-packages (from etils[epath]->tensorflow-datasets>=4.2->tensorflow_similarity) (3.11.0)\n",
            "Requirement already satisfied: kiwisolver>=1.0.1 in /usr/local/lib/python3.8/dist-packages (from matplotlib->tensorflow_similarity) (1.4.4)\n",
            "Requirement already satisfied: cycler>=0.10 in /usr/local/lib/python3.8/dist-packages (from matplotlib->tensorflow_similarity) (0.11.0)\n",
            "Collecting pybind11<2.6.2\n",
            "  Downloading pybind11-2.6.1-py2.py3-none-any.whl (188 kB)\n",
            "\u001b[K     |████████████████████████████████| 188 kB 57.5 MB/s \n",
            "\u001b[?25hRequirement already satisfied: psutil in /usr/local/lib/python3.8/dist-packages (from nmslib->tensorflow_similarity) (5.4.8)\n",
            "Requirement already satisfied: pytz>=2017.3 in /usr/local/lib/python3.8/dist-packages (from pandas->tensorflow_similarity) (2022.6)\n",
            "Requirement already satisfied: googleapis-common-protos<2,>=1.52.0 in /usr/local/lib/python3.8/dist-packages (from tensorflow-metadata->tensorflow-datasets>=4.2->tensorflow_similarity) (1.57.0)\n",
            "Requirement already satisfied: scikit-learn>=0.22 in /usr/local/lib/python3.8/dist-packages (from umap-learn->tensorflow_similarity) (1.0.2)\n",
            "Requirement already satisfied: scipy>=1.0 in /usr/local/lib/python3.8/dist-packages (from umap-learn->tensorflow_similarity) (1.7.3)\n",
            "Requirement already satisfied: numba>=0.49 in /usr/local/lib/python3.8/dist-packages (from umap-learn->tensorflow_similarity) (0.56.4)\n",
            "Collecting pynndescent>=0.5\n",
            "  Downloading pynndescent-0.5.8.tar.gz (1.1 MB)\n",
            "\u001b[K     |████████████████████████████████| 1.1 MB 28.6 MB/s \n",
            "\u001b[?25hRequirement already satisfied: llvmlite<0.40,>=0.39.0dev0 in /usr/local/lib/python3.8/dist-packages (from numba>=0.49->umap-learn->tensorflow_similarity) (0.39.1)\n",
            "Requirement already satisfied: setuptools in /usr/local/lib/python3.8/dist-packages (from numba>=0.49->umap-learn->tensorflow_similarity) (57.4.0)\n",
            "Requirement already satisfied: importlib-metadata in /usr/local/lib/python3.8/dist-packages (from numba>=0.49->umap-learn->tensorflow_similarity) (4.13.0)\n",
            "Requirement already satisfied: joblib>=0.11 in /usr/local/lib/python3.8/dist-packages (from pynndescent>=0.5->umap-learn->tensorflow_similarity) (1.2.0)\n",
            "Requirement already satisfied: threadpoolctl>=2.0.0 in /usr/local/lib/python3.8/dist-packages (from scikit-learn>=0.22->umap-learn->tensorflow_similarity) (3.1.0)\n",
            "Building wheels for collected packages: umap-learn, pynndescent\n",
            "  Building wheel for umap-learn (setup.py) ... \u001b[?25l\u001b[?25hdone\n",
            "  Created wheel for umap-learn: filename=umap_learn-0.5.3-py3-none-any.whl size=82829 sha256=96de43e6ef732ebf43ceb952ea094f8b50a31ae55b94effec782ed6dab3f9a44\n",
            "  Stored in directory: /root/.cache/pip/wheels/a9/3a/67/06a8950e053725912e6a8c42c4a3a241410f6487b8402542ea\n",
            "  Building wheel for pynndescent (setup.py) ... \u001b[?25l\u001b[?25hdone\n",
            "  Created wheel for pynndescent: filename=pynndescent-0.5.8-py3-none-any.whl size=55513 sha256=c55583acbe61b05e5fb447b778598184be01f76f87940ddb0f565f6531ce4f5b\n",
            "  Stored in directory: /root/.cache/pip/wheels/1c/63/3a/29954bca1a27ba100ed8c27973a78cb71b43dc67aed62e80c3\n",
            "Successfully built umap-learn pynndescent\n",
            "Installing collected packages: pynndescent, pybind11, umap-learn, nmslib, distinctipy, tensorflow-similarity\n",
            "Successfully installed distinctipy-1.2.2 nmslib-2.1.1 pybind11-2.6.1 pynndescent-0.5.8 tensorflow-similarity-0.16.9 umap-learn-0.5.3\n"
          ]
        }
      ]
    },
    {
      "cell_type": "code",
      "execution_count": 2,
      "metadata": {
        "id": "o98F6xf7tNsk"
      },
      "outputs": [],
      "source": [
        "import gc\n",
        "import os\n",
        "import random\n",
        "import time\n",
        "from pathlib import Path\n",
        "import matplotlib.pyplot as plt\n",
        "import numpy as np\n",
        "from tabulate import tabulate\n",
        "import tensorflow_addons as tfa\n",
        "import tensorflow as tf\n",
        "import tensorflow_datasets as tfds\n",
        "import tensorflow_similarity as tfsim\n",
        "os.environ[\"TF_CPP_MIN_LOG_LEVEL\"] = \"1\""
      ]
    },
    {
      "cell_type": "code",
      "execution_count": 3,
      "metadata": {
        "tags": [],
        "id": "TCVf4l5jtNsm"
      },
      "outputs": [],
      "source": [
        "tfsim.utils.tf_cap_memory() \n",
        "gc.collect()\n",
        "tf.keras.backend.clear_session()"
      ]
    },
    {
      "cell_type": "code",
      "execution_count": 4,
      "metadata": {
        "colab": {
          "base_uri": "https://localhost:8080/"
        },
        "id": "bP4CmueFtNsm",
        "outputId": "453f7e16-36a6-441a-f3f3-c0014872be94"
      },
      "outputs": [
        {
          "output_type": "stream",
          "name": "stdout",
          "text": [
            "TensorFlow: 2.9.2\n",
            "TensorFlow Similarity 0.16.9\n"
          ]
        }
      ],
      "source": [
        "print(\"TensorFlow:\", tf.__version__)\n",
        "print(\"TensorFlow Similarity\", tfsim.__version__)"
      ]
    },
    {
      "cell_type": "markdown",
      "metadata": {
        "id": "HdVQKLebtNsn"
      },
      "source": [
        "## Dataset Preperation\n",
        "\n",
        "* Loading the data from tensorflow datasets and creating the train, val, test, and query/index splits."
      ]
    },
    {
      "cell_type": "code",
      "execution_count": 5,
      "metadata": {
        "id": "bj575MF5tNsn"
      },
      "outputs": [],
      "source": [
        "DATA_PATH = Path(\"tfsim_contrastive_model\")\n",
        "if not DATA_PATH.exists():\n",
        "    DATA_PATH.mkdir(parents=True)"
      ]
    },
    {
      "cell_type": "markdown",
      "metadata": {
        "tags": [],
        "id": "m9Z0aML2tNsn"
      },
      "source": [
        "### Load The Raw Data\n",
        "\n",
        "We are going to load the dataset. This dataset is often used in the self-supervised papers, enabling us to reproduce the published results. "
      ]
    },
    {
      "cell_type": "code",
      "execution_count": 7,
      "metadata": {
        "id": "U6uboW0ptNsn"
      },
      "outputs": [],
      "source": [
        "((x_raw_train, y_raw_train), (x_test, y_test)), ds_info = tfds.load(\n",
        "    \"rock_paper_scissors\",\n",
        "    split=[\"train\", \"test\"],\n",
        "    batch_size=-1,\n",
        "    shuffle_files=True,\n",
        "    as_supervised=True,\n",
        "    with_info=True,\n",
        ")\n",
        "\n",
        "x_raw_train=tf.image.resize(x_raw_train, [32,32], preserve_aspect_ratio=True)\n",
        "x_test=tf.image.resize(x_test, [32,32], preserve_aspect_ratio=True)"
      ]
    },
    {
      "cell_type": "markdown",
      "metadata": {
        "id": "WvJRh2httNsn"
      },
      "source": [
        "### Create Data Splits\n",
        "\n",
        "* Train: Used for self-supervised pre-training and for training the classifiers.\n",
        "* Test: Reserved for the classifier evaluation.\n",
        "\n",
        "However, we are partitioning the train data into the following additional splits:\n",
        "\n",
        "* Validation: Data used for validation metrics during the pre-training phase. \n",
        "* Query and Index: Data used to compute matching metrics. The query data is used to retrieve the nearest indexed examples.\n",
        "\n",
        "The Query and Index split allows us to track the matching classification performance during training. \n",
        "\n"
      ]
    },
    {
      "cell_type": "code",
      "execution_count": 8,
      "metadata": {
        "id": "FIaWUPaHtNsn"
      },
      "outputs": [],
      "source": [
        "# Compute the indicies for query, index, val, and train splits\n",
        "query_idxs, index_idxs, val_idxs, train_idxs = [], [], [], []\n",
        "for cid in range(ds_info.features[\"label\"].num_classes):\n",
        "    idxs = tf.random.shuffle(tf.where(y_raw_train == cid))\n",
        "    class_length = len(idxs)\n",
        "    idxs = tf.reshape(idxs, (-1,))\n",
        "    query_idxs.extend(idxs[:int(class_length*0.04)])  \n",
        "    index_idxs.extend(idxs[int(class_length*0.04):int(class_length*0.08)])  \n",
        "    val_idxs.extend(idxs[int(class_length*0.08):int(class_length*0.1)])  \n",
        "    train_idxs.extend(idxs[int(class_length*0.1):])  \n",
        "\n",
        "random.shuffle(query_idxs)\n",
        "random.shuffle(index_idxs)\n",
        "random.shuffle(val_idxs)\n",
        "random.shuffle(train_idxs)"
      ]
    },
    {
      "cell_type": "code",
      "execution_count": 9,
      "metadata": {
        "id": "OnLGVNFttNsn"
      },
      "outputs": [],
      "source": [
        "def split_data(idxs: list) -> tuple:\n",
        "    x, y = [], []\n",
        "    for idx in idxs:\n",
        "        x.append(x_raw_train[int(idx)])\n",
        "        y.append(y_raw_train[int(idx)])\n",
        "    return tf.convert_to_tensor(np.array(x)), tf.convert_to_tensor(np.array(y))\n",
        "\n",
        "\n",
        "x_query, y_query = split_data(query_idxs)\n",
        "x_index, y_index = split_data(index_idxs)\n",
        "x_val, y_val = split_data(val_idxs)\n",
        "x_train, y_train = split_data(train_idxs)"
      ]
    },
    {
      "cell_type": "code",
      "execution_count": 10,
      "metadata": {
        "colab": {
          "base_uri": "https://localhost:8080/"
        },
        "id": "4fFyiudktNsn",
        "outputId": "9c84611c-f9f3-44dc-bff7-346f243d2938"
      },
      "outputs": [
        {
          "output_type": "stream",
          "name": "stdout",
          "text": [
            "       Examples           Labels\n",
            "-----  -----------------  --------\n",
            "train  (2268, 32, 32, 3)  (2268,)\n",
            "val    (51, 32, 32, 3)    (51,)\n",
            "query  (99, 32, 32, 3)    (99,)\n",
            "index  (102, 32, 32, 3)   (102,)\n",
            "test   (372, 32, 32, 3)   (372,)\n"
          ]
        }
      ],
      "source": [
        "print(\n",
        "    tabulate(\n",
        "        [\n",
        "            [\"train\", x_train.shape, y_train.shape],\n",
        "            [\"val\", x_val.shape, y_val.shape],\n",
        "            [\"query\", x_query.shape, y_query.shape],\n",
        "            [\"index\", x_index.shape, y_index.shape],\n",
        "            [\"test\", x_test.shape, y_test.shape],\n",
        "        ],\n",
        "        headers=[\"Examples\", \"Labels\"],\n",
        "    )\n",
        ")"
      ]
    },
    {
      "cell_type": "markdown",
      "metadata": {
        "id": "0F0LMylgtNso"
      },
      "source": [
        "## Self-Supervised Training Setup\n",
        "\n",
        "### Selecting the Self-Supervised Algorithm\n",
        "\n",
        "* SimCLR: Only requires the Backbone and the projector and uses a contrastive cross-entropy loss.\n",
        "* SimSiam: Requires the Backbone, projector, and predictor and only compares the cosine distance between augmented views from the same example.\n",
        "* Barlow Twins: Only requires the Backbone and the projector and uses a loss that compares the feature covariance instead of contrasting the views.\n",
        "\n"
      ]
    },
    {
      "cell_type": "code",
      "execution_count": 11,
      "metadata": {
        "id": "eW8pMHZOtNso"
      },
      "outputs": [],
      "source": [
        "ALGORITHM = \"simsiam\"  # \"barlow\", \"simsiam\", \"simclr\""
      ]
    },
    {
      "cell_type": "markdown",
      "metadata": {
        "id": "bWYScbbFtNso"
      },
      "source": [
        "### Training Parameter Setup"
      ]
    },
    {
      "cell_type": "markdown",
      "metadata": {
        "tags": [],
        "id": "V2AUgCkatNso"
      },
      "source": [
        "### Augmented View Configuration\n",
        "\n",
        "* Self-supervised networks require at least two augmented \"views\" of each example. The DataSet treats each example in the batch as its own class and then the augment function produces two separate views for each example. \n",
        "\n",
        "* TensorFlow Similarity provides several random augmentation functions, and here we combine augmenters from the simCLR module to replicate the augmentations used in simsiam."
      ]
    },
    {
      "cell_type": "code",
      "execution_count": 12,
      "metadata": {
        "id": "OS6oA7j_tNso"
      },
      "outputs": [],
      "source": [
        "IMAGE_SIZE = 32\n",
        "BATCH_SIZE = 512\n",
        "PRE_TRAIN_EPOCHS = 100\n",
        "PRE_TRAIN_STEPS_PER_EPOCH = len(x_train) // BATCH_SIZE\n",
        "VAL_STEPS_PER_EPOCH = 20\n",
        "DIM = 2048 \n",
        "\n",
        "if ALGORITHM == \"simsiam\":\n",
        "    WEIGHT_DECAY = 5e-4\n",
        "    INIT_LR = 3e-2 * int(BATCH_SIZE / 256)\n",
        "    WARMUP_LR = 0.0\n",
        "    WARMUP_STEPS = 0\n",
        "    \n",
        "elif ALGORITHM == \"barlow\":\n",
        "    WEIGHT_DECAY = 5e-4\n",
        "    INIT_LR = 1e-3 \n",
        "    WARMUP_LR = 0.0\n",
        "    WARMUP_STEPS = 1000\n",
        "  \n",
        "elif ALGORITHM == \"simclr\":\n",
        "    WEIGHT_DECAY = 5e-4\n",
        "    INIT_LR = 1e-3  \n",
        "    TEMPERATURE = 0.5  # For CIFAR10\n",
        "    "
      ]
    },
    {
      "cell_type": "code",
      "execution_count": 19,
      "metadata": {
        "id": "DFkA4blytNso"
      },
      "outputs": [],
      "source": [
        "def img_scaling(image):\n",
        "    return tf.keras.applications.imagenet_utils.preprocess_input(\n",
        "        image, \n",
        "        data_format=None, \n",
        "        mode='torch')\n",
        "\n",
        "\n",
        "@tf.function\n",
        "def simsiam_augmenter(image, blur=True, area_range=(0.2, 1.0)):\n",
        "    \n",
        "    # random resize and crop\n",
        "    image = tfsim.augmenters.augmentation_utils.cropping.crop_and_resize(\n",
        "        image, IMAGE_SIZE, IMAGE_SIZE, area_range=area_range)\n",
        "    \n",
        "    # The following transforms expect the data to be [0, 1]\n",
        "    image /= 255.\n",
        "    \n",
        "    # random color jitter\n",
        "    def jitter_transform(x):\n",
        "        return tfsim.augmenters.augmentation_utils.color_jitter.color_jitter_rand(\n",
        "            x,\n",
        "            np.random.uniform(0.0, 0.4),\n",
        "            np.random.uniform(0.0, 0.4),\n",
        "            np.random.uniform(0.0, 0.4),\n",
        "            np.random.uniform(0.0, 0.1),\n",
        "            \"multiplicative\",\n",
        "        )\n",
        "\n",
        "    image = tfsim.augmenters.augmentation_utils.random_apply.random_apply(jitter_transform, p=0.8, x=image)\n",
        "\n",
        "    # grayscale\n",
        "    def grascayle_transform(x):\n",
        "        return tfsim.augmenters.augmentation_utils.color_jitter.to_grayscale(x)\n",
        "\n",
        "    image = tfsim.augmenters.augmentation_utils.random_apply.random_apply(grascayle_transform, p=0.2, x=image)\n",
        "\n",
        "    # blur\n",
        "    if blur:\n",
        "        image = tfsim.augmenters.augmentation_utils.blur.random_blur(image, p=0.5)\n",
        "\n",
        "    # horizontal flip\n",
        "    image = tf.image.random_flip_left_right(image)\n",
        "    \n",
        "    # scaling data back to [0, 255]\n",
        "    image = image * 255.\n",
        "    image = tf.clip_by_value(image, 0., 255.)\n",
        "\n",
        "    return image\n",
        "\n",
        "\n",
        "@tf.function()\n",
        "def process(image):\n",
        "    view1 = simsiam_augmenter(image, blur=False)\n",
        "    view1 = img_scaling(view1)\n",
        "    view2 = simsiam_augmenter(image, blur=False)\n",
        "    view2 = img_scaling(view2)\n",
        "    return (view1, view2)\n",
        "\n",
        "\n",
        "train_data = tf.data.Dataset.from_tensor_slices(x_train)\n",
        "train_data = train_data.repeat()\n",
        "train_data = train_data.shuffle(1024)\n",
        "train_data = train_data.map(process, num_parallel_calls=tf.data.AUTOTUNE)\n",
        "train_data = train_data.batch(BATCH_SIZE)\n",
        "train_data = train_data.prefetch(tf.data.AUTOTUNE)\n",
        "\n",
        "val_data = tf.data.Dataset.from_tensor_slices(x_val)\n",
        "val_data = val_data.repeat()\n",
        "val_data = val_data.shuffle(1024)\n",
        "val_data = val_data.map(process, num_parallel_calls=tf.data.AUTOTUNE)\n",
        "val_data = val_data.batch(BATCH_SIZE)\n",
        "val_data = val_data.prefetch(tf.data.AUTOTUNE)"
      ]
    },
    {
      "cell_type": "code",
      "source": [
        "!zip \"/content/tfsim_contrastive_model/models\""
      ],
      "metadata": {
        "colab": {
          "base_uri": "https://localhost:8080/"
        },
        "id": "PN3AtivvobC3",
        "outputId": "3165344a-b9dd-40e9-fb71-849468244909"
      },
      "execution_count": 20,
      "outputs": [
        {
          "output_type": "stream",
          "name": "stdout",
          "text": [
            "\n",
            "zip error: Nothing to do! (/content/tfsim_contrastive_model/models.zip)\n"
          ]
        }
      ]
    },
    {
      "cell_type": "markdown",
      "metadata": {
        "id": "2EQSPvyUtNso"
      },
      "source": [
        "### Visualize Augmentations\n",
        "\n",
        "The pairs of augmented views side by side. "
      ]
    },
    {
      "cell_type": "code",
      "execution_count": 21,
      "metadata": {
        "colab": {
          "base_uri": "https://localhost:8080/",
          "height": 216
        },
        "id": "vlkakeuItNso",
        "outputId": "4a30ffd5-f3dc-4d50-eda6-17aef3fbc124"
      },
      "outputs": [
        {
          "output_type": "display_data",
          "data": {
            "text/plain": [
              "<Figure size 1728x288 with 16 Axes>"
            ],
            "image/png": "[encoded data removed]"
          },
          "metadata": {}
        }
      ],
      "source": [
        "display_images = next(train_data.as_numpy_iterator())\n",
        "max_pixel = np.max([display_images[0].max(), display_images[1].max()])\n",
        "min_pixel = np.min([display_images[0].min(), display_images[1].min()])\n",
        "\n",
        "tfsim.visualization.visualize_views(\n",
        "    views=display_images,\n",
        "    num_imgs=16,\n",
        "    views_per_col=8,\n",
        "    max_pixel_value=max_pixel,\n",
        "    min_pixel_value=min_pixel,\n",
        ")"
      ]
    },
    {
      "cell_type": "markdown",
      "metadata": {
        "tags": [],
        "id": "OAgtB5WPtNsp"
      },
      "source": [
        "### Backbone Model\n",
        "\n",
        "The backbone uses a custom version of ResNet18 in order to reproduce the results.\n"
      ]
    },
    {
      "cell_type": "code",
      "execution_count": 22,
      "metadata": {
        "colab": {
          "base_uri": "https://localhost:8080/"
        },
        "id": "JgmcEbn3tNsp",
        "outputId": "b325a9db-c3e4-46d4-c6c7-b29a7c7867ce"
      },
      "outputs": [
        {
          "output_type": "stream",
          "name": "stdout",
          "text": [
            "Model: \"resnet18sim\"\n",
            "_________________________________________________________________\n",
            " Layer (type)                Output Shape              Param #   \n",
            "=================================================================\n",
            " input_1 (InputLayer)        [(None, 32, 32, 3)]       0         \n",
            "                                                                 \n",
            " resnet18 (Functional)       (None, 4, 4, 512)         11182784  \n",
            "                                                                 \n",
            " avg_pool (GlobalAveragePool  (None, 512)              0         \n",
            " ing2D)                                                          \n",
            "                                                                 \n",
            "=================================================================\n",
            "Total params: 11,182,784\n",
            "Trainable params: 11,173,056\n",
            "Non-trainable params: 9,728\n",
            "_________________________________________________________________\n"
          ]
        }
      ],
      "source": [
        "def get_backbone(image_size, activation=\"relu\", preproc_mode=\"torch\"):\n",
        "    input_shape = (image_size, image_size, 3)\n",
        "\n",
        "    backbone = tfsim.architectures.ResNet18Sim(\n",
        "        input_shape,\n",
        "        include_top=False,  # Take the pooling layer as the output.\n",
        "        pooling=\"avg\",\n",
        "    )\n",
        "    return backbone\n",
        "\n",
        "\n",
        "backbone = get_backbone(IMAGE_SIZE)\n",
        "backbone.summary()"
      ]
    },
    {
      "cell_type": "markdown",
      "metadata": {
        "id": "4izhvC06tNsp"
      },
      "source": [
        "### Projector Model\n",
        " \n",
        "This MLP is common to all the self-supervised models and is typically a stack of 3 layers of the same size. Having too much capacity in the models can make it difficult for the loss to stabilize and converge.\n",
        " \n",
        "\n"
      ]
    },
    {
      "cell_type": "code",
      "execution_count": 23,
      "metadata": {
        "colab": {
          "base_uri": "https://localhost:8080/"
        },
        "id": "TPbNnUYNtNsp",
        "outputId": "459e4eaa-9969-424d-fe92-c88c75c671d4"
      },
      "outputs": [
        {
          "output_type": "stream",
          "name": "stdout",
          "text": [
            "Model: \"projector\"\n",
            "_________________________________________________________________\n",
            " Layer (type)                Output Shape              Param #   \n",
            "=================================================================\n",
            " projector_input (InputLayer  [(None, 512)]            0         \n",
            " )                                                               \n",
            "                                                                 \n",
            " projector_layer_0 (Dense)   (None, 2048)              1048576   \n",
            "                                                                 \n",
            " batch_normalization_0 (Batc  (None, 2048)             8192      \n",
            " hNormalization)                                                 \n",
            "                                                                 \n",
            " relu_activation_0 (Activati  (None, 2048)             0         \n",
            " on)                                                             \n",
            "                                                                 \n",
            " projector_output (Dense)    (None, 2048)              4194304   \n",
            "                                                                 \n",
            " batch_normalization_ouput (  (None, 2048)             4096      \n",
            " BatchNormalization)                                             \n",
            "                                                                 \n",
            " proj_std (ActivationStdLogg  (None, 2048)             0         \n",
            " ingLayer)                                                       \n",
            "                                                                 \n",
            "=================================================================\n",
            "Total params: 5,255,168\n",
            "Trainable params: 5,246,976\n",
            "Non-trainable params: 8,192\n",
            "_________________________________________________________________\n"
          ]
        }
      ],
      "source": [
        "def get_projector(input_dim, dim, activation=\"relu\", num_layers: int = 3):\n",
        "    inputs = tf.keras.layers.Input((input_dim,), name=\"projector_input\")\n",
        "    x = inputs\n",
        "\n",
        "    for i in range(num_layers - 1):\n",
        "        x = tf.keras.layers.Dense(\n",
        "            dim,\n",
        "            use_bias=False,\n",
        "            kernel_initializer=tf.keras.initializers.LecunUniform(),\n",
        "            name=f\"projector_layer_{i}\",\n",
        "        )(x)\n",
        "        x = tf.keras.layers.BatchNormalization(epsilon=1.001e-5, name=f\"batch_normalization_{i}\")(x)\n",
        "        x = tf.keras.layers.Activation(activation, name=f\"{activation}_activation_{i}\")(x)\n",
        "    x = tf.keras.layers.Dense(\n",
        "        dim,\n",
        "        use_bias=False,\n",
        "        kernel_initializer=tf.keras.initializers.LecunUniform(),\n",
        "        name=\"projector_output\",\n",
        "    )(x)\n",
        "    x = tf.keras.layers.BatchNormalization(\n",
        "        epsilon=1.001e-5,\n",
        "        center=False,  \n",
        "        scale=False,  \n",
        "        name=f\"batch_normalization_ouput\",\n",
        "    )(x)\n",
        "    \n",
        "    o = tfsim.layers.ActivationStdLoggingLayer(name=\"proj_std\")(x)\n",
        "    projector = tf.keras.Model(inputs, o, name=\"projector\")\n",
        "    return projector\n",
        "\n",
        "\n",
        "projector = get_projector(input_dim=backbone.output.shape[-1], dim=DIM, num_layers=2)\n",
        "projector.summary()"
      ]
    },
    {
      "cell_type": "markdown",
      "metadata": {
        "id": "A6pw98MAtNsp"
      },
      "source": [
        "### Predictor model\n"
      ]
    },
    {
      "cell_type": "code",
      "execution_count": 24,
      "metadata": {
        "colab": {
          "base_uri": "https://localhost:8080/"
        },
        "id": "FIOkNtc6tNsp",
        "outputId": "10e90b7a-ee15-4e02-912e-770988fc4ce6"
      },
      "outputs": [
        {
          "output_type": "stream",
          "name": "stdout",
          "text": [
            "Model: \"predictor\"\n",
            "_________________________________________________________________\n",
            " Layer (type)                Output Shape              Param #   \n",
            "=================================================================\n",
            " predictor_input (InputLayer  [(None, 2048)]           0         \n",
            " )                                                               \n",
            "                                                                 \n",
            " predictor_layer_0 (Dense)   (None, 512)               1048576   \n",
            "                                                                 \n",
            " batch_normalization_0 (Batc  (None, 512)              2048      \n",
            " hNormalization)                                                 \n",
            "                                                                 \n",
            " relu_activation_0 (Activati  (None, 512)              0         \n",
            " on)                                                             \n",
            "                                                                 \n",
            " predictor_output (Dense)    (None, 2048)              1050624   \n",
            "                                                                 \n",
            " pred_std (ActivationStdLogg  (None, 2048)             0         \n",
            " ingLayer)                                                       \n",
            "                                                                 \n",
            "=================================================================\n",
            "Total params: 2,101,248\n",
            "Trainable params: 2,100,224\n",
            "Non-trainable params: 1,024\n",
            "_________________________________________________________________\n"
          ]
        }
      ],
      "source": [
        "def get_predictor(input_dim, hidden_dim=512, activation=\"relu\"):\n",
        "    inputs = tf.keras.layers.Input(shape=(input_dim,), name=\"predictor_input\")\n",
        "    x = inputs\n",
        "\n",
        "    x = tf.keras.layers.Dense(\n",
        "        hidden_dim,\n",
        "        use_bias=False,\n",
        "        kernel_initializer=tf.keras.initializers.LecunUniform(),\n",
        "        name=\"predictor_layer_0\",\n",
        "    )(x)\n",
        "    x = tf.keras.layers.BatchNormalization(epsilon=1.001e-5, name=\"batch_normalization_0\")(x)\n",
        "    x = tf.keras.layers.Activation(activation, name=f\"{activation}_activation_0\")(x)\n",
        "\n",
        "    x = tf.keras.layers.Dense(\n",
        "        input_dim,\n",
        "        kernel_initializer=tf.keras.initializers.LecunUniform(),\n",
        "        name=\"predictor_output\",\n",
        "    )(x)\n",
        "    o = tfsim.layers.ActivationStdLoggingLayer(name=\"pred_std\")(x)\n",
        "    predictor = tf.keras.Model(inputs, o, name=\"predictor\")\n",
        "    return predictor\n",
        "\n",
        "\n",
        "predictor = get_predictor(input_dim=DIM, hidden_dim=512)\n",
        "predictor.summary()"
      ]
    },
    {
      "cell_type": "markdown",
      "metadata": {
        "tags": [],
        "id": "demeFBmDtNsp"
      },
      "source": [
        "## Self-Supervised Algorithms\n",
        " \n",
        "\n"
      ]
    },
    {
      "cell_type": "code",
      "execution_count": 27,
      "metadata": {
        "id": "GbGTM3s1tNsp"
      },
      "outputs": [],
      "source": [
        "if ALGORITHM == \"simsiam\":\n",
        "    loss = tfsim.losses.SimSiamLoss(projection_type=\"cosine_distance\", name=ALGORITHM)\n",
        "\n",
        "    contrastive_model = tfsim.models.ContrastiveModel(\n",
        "        backbone=backbone,\n",
        "        projector=projector,\n",
        "        predictor=predictor, \n",
        "        algorithm=ALGORITHM,\n",
        "        name=ALGORITHM,\n",
        "    )\n",
        "    lr_decayed_fn = tf.keras.optimizers.schedules.CosineDecay(\n",
        "        initial_learning_rate=INIT_LR,\n",
        "        decay_steps=PRE_TRAIN_EPOCHS * PRE_TRAIN_STEPS_PER_EPOCH,\n",
        "    )\n",
        "    wd_decayed_fn = tf.keras.optimizers.schedules.CosineDecay(\n",
        "        initial_learning_rate=WEIGHT_DECAY,\n",
        "        decay_steps=PRE_TRAIN_EPOCHS * PRE_TRAIN_STEPS_PER_EPOCH,\n",
        "    )\n",
        "    optimizer = tfa.optimizers.SGDW(learning_rate=lr_decayed_fn, weight_decay=wd_decayed_fn, momentum=0.9)\n",
        "elif ALGORITHM == \"barlow\":\n",
        "    loss = tfsim.losses.Barlow(name=ALGORITHM)\n",
        "\n",
        "    contrastive_model = tfsim.models.ContrastiveModel(\n",
        "        backbone=backbone,\n",
        "        projector=projector,\n",
        "        algorithm=\"barlow\",\n",
        "    )\n",
        "    optimizer = tfa.optimizers.LAMB(learning_rate=INIT_LR)\n",
        "elif ALGORITHM == \"simclr\":\n",
        "    loss = tfsim.losses.SimCLRLoss(name=ALGORITHM, temperature=TEMPERATURE)\n",
        "\n",
        "    contrastive_model = tfsim.models.ContrastiveModel(\n",
        "        backbone=backbone,\n",
        "        projector=projector,\n",
        "        algorithm=ALGORITHM,\n",
        "    )\n",
        "    optimizer = tfa.optimizers.LAMB(learning_rate=INIT_LR)\n",
        "else:\n",
        "    raise ValueError(f\"ALGORITHM is not supported.\")"
      ]
    },
    {
      "cell_type": "markdown",
      "metadata": {
        "id": "XN4nW5UPtNsp"
      },
      "source": [
        "### Compile"
      ]
    },
    {
      "cell_type": "code",
      "execution_count": 28,
      "metadata": {
        "id": "Pd5qh3titNsp"
      },
      "outputs": [],
      "source": [
        "contrastive_model.compile(\n",
        "    optimizer=optimizer,\n",
        "    loss=loss,\n",
        ")"
      ]
    },
    {
      "cell_type": "markdown",
      "metadata": {
        "id": "ephFRu0PtNsp"
      },
      "source": [
        "### Callbacks to stop the learning\n",
        "\n"
      ]
    },
    {
      "cell_type": "code",
      "execution_count": 29,
      "metadata": {
        "colab": {
          "base_uri": "https://localhost:8080/"
        },
        "id": "9OAhsC_6tNsp",
        "outputId": "003dca85-8ed0-4325-d85b-af9804c10b6b"
      },
      "outputs": [
        {
          "output_type": "stream",
          "name": "stdout",
          "text": [
            "TensorBoard logging enable in tfsim_contrastive_model/models/logs/simsiam_1670885687.138702/index\n"
          ]
        }
      ],
      "source": [
        "log_dir = DATA_PATH / \"models\" / \"logs\" / f\"{loss.name}_{time.time()}\"\n",
        "chkpt_dir = DATA_PATH / \"models\" / \"checkpoints\" / f\"{loss.name}_{time.time()}\"\n",
        "\n",
        "\n",
        "evb = tfsim.callbacks.EvalCallback(\n",
        "    img_scaling(tf.cast(x_query, tf.float32)),\n",
        "    y_query,\n",
        "    img_scaling(tf.cast(x_index, tf.float32)),\n",
        "    y_index,\n",
        "    metrics=[\"binary_accuracy\"],\n",
        "    k=1,\n",
        "    tb_logdir=log_dir,\n",
        ")\n",
        "tbc = tf.keras.callbacks.TensorBoard(\n",
        "    log_dir=log_dir,\n",
        "    histogram_freq=1,\n",
        "    update_freq=100,\n",
        ")\n",
        "mcp = tf.keras.callbacks.ModelCheckpoint(\n",
        "    filepath=chkpt_dir,\n",
        "    monitor=\"val_loss\",\n",
        "    mode=\"min\",\n",
        "    save_best_only=True,\n",
        "    save_weights_only=True,\n",
        ")"
      ]
    },
    {
      "cell_type": "markdown",
      "metadata": {
        "tags": [],
        "id": "GQAKKy58tNsq"
      },
      "source": [
        "## Model Training\n",
        " \n",
        "The model training provides a number of metrics.\n",
        "- loss \n",
        "\n",
        "- proj_std and pred_std\n",
        "- binary_accuracy"
      ]
    },
    {
      "cell_type": "code",
      "execution_count": 30,
      "metadata": {
        "colab": {
          "base_uri": "https://localhost:8080/"
        },
        "id": "AqARgB_UtNsq",
        "outputId": "49164628-b204-4e52-f454-7a2e0527ae9b"
      },
      "outputs": [
        {
          "output_type": "stream",
          "name": "stdout",
          "text": [
            "Epoch 1/100\n",
            "4/4 [==============================] - ETA: 0s - loss: 0.9961 - proj_std: 0.0219 - pred_std: 0.0180binary_accuracy: 0.8081\n",
            "4/4 [==============================] - 49s 6s/step - loss: 0.9961 - proj_std: 0.0219 - pred_std: 0.0180 - val_loss: 0.9806 - val_proj_std: 0.0047 - val_pred_std: 0.0043 - binary_accuracy: 0.8081\n",
            "Epoch 2/100\n",
            "4/4 [==============================] - ETA: 0s - loss: 0.9756 - proj_std: 0.0218 - pred_std: 0.0179binary_accuracy: 0.7475\n",
            "4/4 [==============================] - 19s 6s/step - loss: 0.9756 - proj_std: 0.0218 - pred_std: 0.0179 - val_loss: 0.9543 - val_proj_std: 0.0103 - val_pred_std: 0.0085 - binary_accuracy: 0.7475\n",
            "Epoch 3/100\n",
            "4/4 [==============================] - ETA: 0s - loss: 0.9444 - proj_std: 0.0217 - pred_std: 0.0177binary_accuracy: 0.7879\n",
            "4/4 [==============================] - 14s 4s/step - loss: 0.9444 - proj_std: 0.0217 - pred_std: 0.0177 - val_loss: 0.9519 - val_proj_std: 0.0129 - val_pred_std: 0.0102 - binary_accuracy: 0.7879\n",
            "Epoch 4/100\n",
            "4/4 [==============================] - ETA: 0s - loss: 0.9048 - proj_std: 0.0215 - pred_std: 0.0173binary_accuracy: 0.8283\n",
            "4/4 [==============================] - 14s 4s/step - loss: 0.9048 - proj_std: 0.0215 - pred_std: 0.0173 - val_loss: 0.9524 - val_proj_std: 0.0143 - val_pred_std: 0.0114 - binary_accuracy: 0.8283\n",
            "Epoch 5/100\n",
            "4/4 [==============================] - ETA: 0s - loss: 0.8619 - proj_std: 0.0212 - pred_std: 0.0168binary_accuracy: 0.7677\n",
            "4/4 [==============================] - 14s 4s/step - loss: 0.8619 - proj_std: 0.0212 - pred_std: 0.0168 - val_loss: 0.9428 - val_proj_std: 0.0153 - val_pred_std: 0.0123 - binary_accuracy: 0.7677\n",
            "Epoch 6/100\n",
            "4/4 [==============================] - ETA: 0s - loss: 0.8043 - proj_std: 0.0209 - pred_std: 0.0164binary_accuracy: 0.7172\n",
            "4/4 [==============================] - 19s 6s/step - loss: 0.8043 - proj_std: 0.0209 - pred_std: 0.0164 - val_loss: 0.9250 - val_proj_std: 0.0165 - val_pred_std: 0.0134 - binary_accuracy: 0.7172\n",
            "Epoch 7/100\n",
            "4/4 [==============================] - ETA: 0s - loss: 0.7622 - proj_std: 0.0205 - pred_std: 0.0160binary_accuracy: 0.7374\n",
            "4/4 [==============================] - 15s 4s/step - loss: 0.7622 - proj_std: 0.0205 - pred_std: 0.0160 - val_loss: 0.8947 - val_proj_std: 0.0177 - val_pred_std: 0.0146 - binary_accuracy: 0.7374\n",
            "Epoch 8/100\n",
            "4/4 [==============================] - ETA: 0s - loss: 0.7081 - proj_std: 0.0201 - pred_std: 0.0158binary_accuracy: 0.7576\n",
            "4/4 [==============================] - 19s 6s/step - loss: 0.7081 - proj_std: 0.0201 - pred_std: 0.0158 - val_loss: 0.8346 - val_proj_std: 0.0186 - val_pred_std: 0.0153 - binary_accuracy: 0.7576\n",
            "Epoch 9/100\n",
            "4/4 [==============================] - ETA: 0s - loss: 0.6385 - proj_std: 0.0195 - pred_std: 0.0153binary_accuracy: 0.7475\n",
            "4/4 [==============================] - 22s 7s/step - loss: 0.6385 - proj_std: 0.0195 - pred_std: 0.0153 - val_loss: 0.7740 - val_proj_std: 0.0192 - val_pred_std: 0.0155 - binary_accuracy: 0.7475\n",
            "Epoch 10/100\n",
            "4/4 [==============================] - ETA: 0s - loss: 0.5935 - proj_std: 0.0190 - pred_std: 0.0149binary_accuracy: 0.7778\n",
            "4/4 [==============================] - 20s 6s/step - loss: 0.5935 - proj_std: 0.0190 - pred_std: 0.0149 - val_loss: 0.7291 - val_proj_std: 0.0194 - val_pred_std: 0.0156 - binary_accuracy: 0.7778\n",
            "Epoch 11/100\n",
            "4/4 [==============================] - ETA: 0s - loss: 0.5112 - proj_std: 0.0181 - pred_std: 0.0141binary_accuracy: 0.6970\n",
            "4/4 [==============================] - 14s 4s/step - loss: 0.5112 - proj_std: 0.0181 - pred_std: 0.0141 - val_loss: 0.6890 - val_proj_std: 0.0189 - val_pred_std: 0.0153 - binary_accuracy: 0.6970\n",
            "Epoch 12/100\n",
            "4/4 [==============================] - ETA: 0s - loss: 0.4651 - proj_std: 0.0169 - pred_std: 0.0129binary_accuracy: 0.6869\n",
            "4/4 [==============================] - 19s 6s/step - loss: 0.4651 - proj_std: 0.0169 - pred_std: 0.0129 - val_loss: 0.6946 - val_proj_std: 0.0194 - val_pred_std: 0.0156 - binary_accuracy: 0.6869\n",
            "Epoch 13/100\n",
            "4/4 [==============================] - ETA: 0s - loss: 0.4080 - proj_std: 0.0163 - pred_std: 0.0119binary_accuracy: 0.6667\n",
            "4/4 [==============================] - 14s 4s/step - loss: 0.4080 - proj_std: 0.0163 - pred_std: 0.0119 - val_loss: 0.5182 - val_proj_std: 0.0161 - val_pred_std: 0.0125 - binary_accuracy: 0.6667\n",
            "Epoch 14/100\n",
            "4/4 [==============================] - ETA: 0s - loss: 0.3339 - proj_std: 0.0151 - pred_std: 0.0106binary_accuracy: 0.6768\n",
            "4/4 [==============================] - 14s 4s/step - loss: 0.3339 - proj_std: 0.0151 - pred_std: 0.0106 - val_loss: 0.2942 - val_proj_std: 0.0105 - val_pred_std: 0.0068 - binary_accuracy: 0.6768\n",
            "Epoch 15/100\n",
            "4/4 [==============================] - ETA: 0s - loss: 0.3163 - proj_std: 0.0143 - pred_std: 0.0097binary_accuracy: 0.6667\n",
            "4/4 [==============================] - 19s 6s/step - loss: 0.3163 - proj_std: 0.0143 - pred_std: 0.0097 - val_loss: 0.4349 - val_proj_std: 0.0157 - val_pred_std: 0.0116 - binary_accuracy: 0.6667\n",
            "Epoch 16/100\n",
            "4/4 [==============================] - ETA: 0s - loss: 0.2777 - proj_std: 0.0142 - pred_std: 0.0094binary_accuracy: 0.6970\n",
            "4/4 [==============================] - 19s 6s/step - loss: 0.2777 - proj_std: 0.0142 - pred_std: 0.0094 - val_loss: 0.4003 - val_proj_std: 0.0145 - val_pred_std: 0.0102 - binary_accuracy: 0.6970\n",
            "Epoch 17/100\n",
            "4/4 [==============================] - ETA: 0s - loss: 0.2461 - proj_std: 0.0131 - pred_std: 0.0080binary_accuracy: 0.6869\n",
            "4/4 [==============================] - 19s 6s/step - loss: 0.2461 - proj_std: 0.0131 - pred_std: 0.0080 - val_loss: 0.3323 - val_proj_std: 0.0133 - val_pred_std: 0.0088 - binary_accuracy: 0.6869\n",
            "Epoch 18/100\n",
            "4/4 [==============================] - ETA: 0s - loss: 0.2171 - proj_std: 0.0124 - pred_std: 0.0075binary_accuracy: 0.7172\n",
            "4/4 [==============================] - 19s 6s/step - loss: 0.2171 - proj_std: 0.0124 - pred_std: 0.0075 - val_loss: 0.1913 - val_proj_std: 0.0087 - val_pred_std: 0.0041 - binary_accuracy: 0.7172\n",
            "Epoch 19/100\n",
            "4/4 [==============================] - ETA: 0s - loss: 0.1930 - proj_std: 0.0120 - pred_std: 0.0070binary_accuracy: 0.6667\n",
            "4/4 [==============================] - 19s 6s/step - loss: 0.1930 - proj_std: 0.0120 - pred_std: 0.0070 - val_loss: 0.1733 - val_proj_std: 0.0081 - val_pred_std: 0.0037 - binary_accuracy: 0.6667\n",
            "Epoch 20/100\n",
            "4/4 [==============================] - ETA: 0s - loss: 0.1710 - proj_std: 0.0114 - pred_std: 0.0066binary_accuracy: 0.6263\n",
            "4/4 [==============================] - 19s 6s/step - loss: 0.1710 - proj_std: 0.0114 - pred_std: 0.0066 - val_loss: 0.1237 - val_proj_std: 0.0056 - val_pred_std: 0.0018 - binary_accuracy: 0.6263\n",
            "Epoch 21/100\n",
            "4/4 [==============================] - ETA: 0s - loss: 0.1851 - proj_std: 0.0116 - pred_std: 0.0067binary_accuracy: 0.6768\n",
            "4/4 [==============================] - 14s 4s/step - loss: 0.1851 - proj_std: 0.0116 - pred_std: 0.0067 - val_loss: 0.2252 - val_proj_std: 0.0112 - val_pred_std: 0.0068 - binary_accuracy: 0.6768\n",
            "Epoch 22/100\n",
            "4/4 [==============================] - ETA: 0s - loss: 0.1647 - proj_std: 0.0114 - pred_std: 0.0068binary_accuracy: 0.6364\n",
            "4/4 [==============================] - 19s 6s/step - loss: 0.1647 - proj_std: 0.0114 - pred_std: 0.0068 - val_loss: 0.0982 - val_proj_std: 0.0043 - val_pred_std: 0.0012 - binary_accuracy: 0.6364\n",
            "Epoch 23/100\n",
            "4/4 [==============================] - ETA: 0s - loss: 0.1572 - proj_std: 0.0112 - pred_std: 0.0062binary_accuracy: 0.6566\n",
            "4/4 [==============================] - 14s 4s/step - loss: 0.1572 - proj_std: 0.0112 - pred_std: 0.0062 - val_loss: 0.0890 - val_proj_std: 0.0037 - val_pred_std: 0.0011 - binary_accuracy: 0.6566\n",
            "Epoch 24/100\n",
            "4/4 [==============================] - ETA: 0s - loss: 0.1604 - proj_std: 0.0111 - pred_std: 0.0059binary_accuracy: 0.7071\n",
            "4/4 [==============================] - 14s 4s/step - loss: 0.1604 - proj_std: 0.0111 - pred_std: 0.0059 - val_loss: 0.0837 - val_proj_std: 0.0036 - val_pred_std: 0.0010 - binary_accuracy: 0.7071\n",
            "Epoch 25/100\n",
            "4/4 [==============================] - ETA: 0s - loss: 0.1631 - proj_std: 0.0114 - pred_std: 0.0065binary_accuracy: 0.7374\n",
            "4/4 [==============================] - 19s 6s/step - loss: 0.1631 - proj_std: 0.0114 - pred_std: 0.0065 - val_loss: 0.0797 - val_proj_std: 0.0038 - val_pred_std: 0.0011 - binary_accuracy: 0.7374\n",
            "Epoch 26/100\n",
            "4/4 [==============================] - ETA: 0s - loss: 0.1513 - proj_std: 0.0109 - pred_std: 0.0059binary_accuracy: 0.7475\n",
            "4/4 [==============================] - 19s 6s/step - loss: 0.1513 - proj_std: 0.0109 - pred_std: 0.0059 - val_loss: 0.0787 - val_proj_std: 0.0042 - val_pred_std: 0.0012 - binary_accuracy: 0.7475\n",
            "Epoch 27/100\n",
            "4/4 [==============================] - ETA: 0s - loss: 0.1501 - proj_std: 0.0113 - pred_std: 0.0064binary_accuracy: 0.7778\n",
            "4/4 [==============================] - 14s 4s/step - loss: 0.1501 - proj_std: 0.0113 - pred_std: 0.0064 - val_loss: 0.3304 - val_proj_std: 0.0153 - val_pred_std: 0.0099 - binary_accuracy: 0.7778\n",
            "Epoch 28/100\n",
            "4/4 [==============================] - ETA: 0s - loss: 0.1605 - proj_std: 0.0117 - pred_std: 0.0067binary_accuracy: 0.7374\n",
            "4/4 [==============================] - 14s 4s/step - loss: 0.1605 - proj_std: 0.0117 - pred_std: 0.0067 - val_loss: 0.3929 - val_proj_std: 0.0167 - val_pred_std: 0.0110 - binary_accuracy: 0.7374\n",
            "Epoch 29/100\n",
            "4/4 [==============================] - ETA: 0s - loss: 0.1506 - proj_std: 0.0114 - pred_std: 0.0065binary_accuracy: 0.7273\n",
            "4/4 [==============================] - 14s 4s/step - loss: 0.1506 - proj_std: 0.0114 - pred_std: 0.0065 - val_loss: 0.3448 - val_proj_std: 0.0157 - val_pred_std: 0.0101 - binary_accuracy: 0.7273\n",
            "Epoch 30/100\n",
            "4/4 [==============================] - ETA: 0s - loss: 0.1579 - proj_std: 0.0114 - pred_std: 0.0064binary_accuracy: 0.7273\n",
            "4/4 [==============================] - 14s 4s/step - loss: 0.1579 - proj_std: 0.0114 - pred_std: 0.0064 - val_loss: 0.1673 - val_proj_std: 0.0106 - val_pred_std: 0.0057 - binary_accuracy: 0.7273\n",
            "Epoch 31/100\n",
            "4/4 [==============================] - ETA: 0s - loss: 0.1420 - proj_std: 0.0106 - pred_std: 0.0057binary_accuracy: 0.7576\n",
            "4/4 [==============================] - 14s 4s/step - loss: 0.1420 - proj_std: 0.0106 - pred_std: 0.0057 - val_loss: 0.0803 - val_proj_std: 0.0059 - val_pred_std: 0.0025 - binary_accuracy: 0.7576\n",
            "Epoch 32/100\n",
            "4/4 [==============================] - ETA: 0s - loss: 0.1457 - proj_std: 0.0107 - pred_std: 0.0057binary_accuracy: 0.7374\n",
            "4/4 [==============================] - 19s 6s/step - loss: 0.1457 - proj_std: 0.0107 - pred_std: 0.0057 - val_loss: 0.2238 - val_proj_std: 0.0131 - val_pred_std: 0.0079 - binary_accuracy: 0.7374\n",
            "Epoch 33/100\n",
            "4/4 [==============================] - ETA: 0s - loss: 0.1421 - proj_std: 0.0111 - pred_std: 0.0065binary_accuracy: 0.6566\n",
            "4/4 [==============================] - 14s 4s/step - loss: 0.1421 - proj_std: 0.0111 - pred_std: 0.0065 - val_loss: 0.5807 - val_proj_std: 0.0201 - val_pred_std: 0.0144 - binary_accuracy: 0.6566\n",
            "Epoch 34/100\n",
            "4/4 [==============================] - ETA: 0s - loss: 0.1628 - proj_std: 0.0118 - pred_std: 0.0071binary_accuracy: 0.7273\n",
            "4/4 [==============================] - 14s 4s/step - loss: 0.1628 - proj_std: 0.0118 - pred_std: 0.0071 - val_loss: 0.6548 - val_proj_std: 0.0208 - val_pred_std: 0.0152 - binary_accuracy: 0.7273\n",
            "Epoch 35/100\n",
            "4/4 [==============================] - ETA: 0s - loss: 0.1697 - proj_std: 0.0121 - pred_std: 0.0073binary_accuracy: 0.6768\n",
            "4/4 [==============================] - 14s 4s/step - loss: 0.1697 - proj_std: 0.0121 - pred_std: 0.0073 - val_loss: 0.6203 - val_proj_std: 0.0206 - val_pred_std: 0.0150 - binary_accuracy: 0.6768\n",
            "Epoch 36/100\n",
            "4/4 [==============================] - ETA: 0s - loss: 0.1565 - proj_std: 0.0119 - pred_std: 0.0071binary_accuracy: 0.7172\n",
            "4/4 [==============================] - 16s 5s/step - loss: 0.1565 - proj_std: 0.0119 - pred_std: 0.0071 - val_loss: 0.5233 - val_proj_std: 0.0194 - val_pred_std: 0.0137 - binary_accuracy: 0.7172\n",
            "Epoch 37/100\n",
            "4/4 [==============================] - ETA: 0s - loss: 0.1602 - proj_std: 0.0119 - pred_std: 0.0071binary_accuracy: 0.6869\n",
            "4/4 [==============================] - 19s 6s/step - loss: 0.1602 - proj_std: 0.0119 - pred_std: 0.0071 - val_loss: 0.4254 - val_proj_std: 0.0177 - val_pred_std: 0.0122 - binary_accuracy: 0.6869\n",
            "Epoch 38/100\n",
            "4/4 [==============================] - ETA: 0s - loss: 0.1492 - proj_std: 0.0116 - pred_std: 0.0068binary_accuracy: 0.6970\n",
            "4/4 [==============================] - 14s 4s/step - loss: 0.1492 - proj_std: 0.0116 - pred_std: 0.0068 - val_loss: 0.1422 - val_proj_std: 0.0105 - val_pred_std: 0.0063 - binary_accuracy: 0.6970\n",
            "Epoch 39/100\n",
            "4/4 [==============================] - ETA: 0s - loss: 0.1564 - proj_std: 0.0117 - pred_std: 0.0068binary_accuracy: 0.7071\n",
            "4/4 [==============================] - 19s 6s/step - loss: 0.1564 - proj_std: 0.0117 - pred_std: 0.0068 - val_loss: 0.2263 - val_proj_std: 0.0139 - val_pred_std: 0.0090 - binary_accuracy: 0.7071\n",
            "Epoch 40/100\n",
            "4/4 [==============================] - ETA: 0s - loss: 0.1528 - proj_std: 0.0116 - pred_std: 0.0069binary_accuracy: 0.7172\n",
            "4/4 [==============================] - 19s 6s/step - loss: 0.1528 - proj_std: 0.0116 - pred_std: 0.0069 - val_loss: 0.3457 - val_proj_std: 0.0165 - val_pred_std: 0.0113 - binary_accuracy: 0.7172\n",
            "Epoch 41/100\n",
            "4/4 [==============================] - ETA: 0s - loss: 0.1456 - proj_std: 0.0117 - pred_std: 0.0071binary_accuracy: 0.6869\n",
            "4/4 [==============================] - 19s 6s/step - loss: 0.1456 - proj_std: 0.0117 - pred_std: 0.0071 - val_loss: 0.0772 - val_proj_std: 0.0070 - val_pred_std: 0.0037 - binary_accuracy: 0.6869\n",
            "Epoch 42/100\n",
            "4/4 [==============================] - ETA: 0s - loss: 0.1503 - proj_std: 0.0115 - pred_std: 0.0069binary_accuracy: 0.6364\n",
            "4/4 [==============================] - 19s 6s/step - loss: 0.1503 - proj_std: 0.0115 - pred_std: 0.0069 - val_loss: 0.0361 - val_proj_std: 0.0038 - val_pred_std: 0.0017 - binary_accuracy: 0.6364\n",
            "Epoch 43/100\n",
            "4/4 [==============================] - ETA: 0s - loss: 0.1537 - proj_std: 0.0116 - pred_std: 0.0068binary_accuracy: 0.6263\n",
            "4/4 [==============================] - 14s 4s/step - loss: 0.1537 - proj_std: 0.0116 - pred_std: 0.0068 - val_loss: 0.0273 - val_proj_std: 0.0030 - val_pred_std: 0.0010 - binary_accuracy: 0.6263\n",
            "Epoch 44/100\n",
            "4/4 [==============================] - ETA: 0s - loss: 0.1593 - proj_std: 0.0119 - pred_std: 0.0072binary_accuracy: 0.6465\n",
            "4/4 [==============================] - 19s 6s/step - loss: 0.1593 - proj_std: 0.0119 - pred_std: 0.0072 - val_loss: 0.0315 - val_proj_std: 0.0036 - val_pred_std: 0.0013 - binary_accuracy: 0.6465\n",
            "Epoch 45/100\n",
            "4/4 [==============================] - ETA: 0s - loss: 0.1558 - proj_std: 0.0119 - pred_std: 0.0072binary_accuracy: 0.6364\n",
            "4/4 [==============================] - 19s 6s/step - loss: 0.1558 - proj_std: 0.0119 - pred_std: 0.0072 - val_loss: 0.0255 - val_proj_std: 0.0030 - val_pred_std: 0.0011 - binary_accuracy: 0.6364\n",
            "Epoch 46/100\n",
            "4/4 [==============================] - ETA: 0s - loss: 0.1504 - proj_std: 0.0116 - pred_std: 0.0071binary_accuracy: 0.6364\n",
            "4/4 [==============================] - 19s 6s/step - loss: 0.1504 - proj_std: 0.0116 - pred_std: 0.0071 - val_loss: 0.0181 - val_proj_std: 0.0020 - val_pred_std: 5.4085e-04 - binary_accuracy: 0.6364\n",
            "Epoch 47/100\n",
            "4/4 [==============================] - ETA: 0s - loss: 0.1676 - proj_std: 0.0121 - pred_std: 0.0073binary_accuracy: 0.6263\n",
            "4/4 [==============================] - 14s 4s/step - loss: 0.1676 - proj_std: 0.0121 - pred_std: 0.0073 - val_loss: 0.0191 - val_proj_std: 0.0023 - val_pred_std: 5.9652e-04 - binary_accuracy: 0.6263\n",
            "Epoch 48/100\n",
            "4/4 [==============================] - ETA: 0s - loss: 0.1568 - proj_std: 0.0116 - pred_std: 0.0070binary_accuracy: 0.6768\n",
            "4/4 [==============================] - 19s 6s/step - loss: 0.1568 - proj_std: 0.0116 - pred_std: 0.0070 - val_loss: 0.0463 - val_proj_std: 0.0051 - val_pred_std: 0.0024 - binary_accuracy: 0.6768\n",
            "Epoch 49/100\n",
            "4/4 [==============================] - ETA: 0s - loss: 0.1540 - proj_std: 0.0116 - pred_std: 0.0071binary_accuracy: 0.6970\n",
            "4/4 [==============================] - 20s 6s/step - loss: 0.1540 - proj_std: 0.0116 - pred_std: 0.0071 - val_loss: 0.0402 - val_proj_std: 0.0047 - val_pred_std: 0.0016 - binary_accuracy: 0.6970\n",
            "Epoch 50/100\n",
            "4/4 [==============================] - ETA: 0s - loss: 0.1478 - proj_std: 0.0114 - pred_std: 0.0068binary_accuracy: 0.7172\n",
            "4/4 [==============================] - 15s 5s/step - loss: 0.1478 - proj_std: 0.0114 - pred_std: 0.0068 - val_loss: 0.0439 - val_proj_std: 0.0051 - val_pred_std: 0.0012 - binary_accuracy: 0.7172\n",
            "Epoch 51/100\n",
            "4/4 [==============================] - ETA: 0s - loss: 0.1510 - proj_std: 0.0117 - pred_std: 0.0069binary_accuracy: 0.7071\n",
            "4/4 [==============================] - 20s 6s/step - loss: 0.1510 - proj_std: 0.0117 - pred_std: 0.0069 - val_loss: 0.0544 - val_proj_std: 0.0059 - val_pred_std: 0.0017 - binary_accuracy: 0.7071\n",
            "Epoch 52/100\n",
            "4/4 [==============================] - ETA: 0s - loss: 0.1571 - proj_std: 0.0117 - pred_std: 0.0070binary_accuracy: 0.7576\n",
            "4/4 [==============================] - 16s 5s/step - loss: 0.1571 - proj_std: 0.0117 - pred_std: 0.0070 - val_loss: 0.0481 - val_proj_std: 0.0055 - val_pred_std: 0.0014 - binary_accuracy: 0.7576\n",
            "Epoch 53/100\n",
            "4/4 [==============================] - ETA: 0s - loss: 0.1583 - proj_std: 0.0118 - pred_std: 0.0070binary_accuracy: 0.7374\n",
            "4/4 [==============================] - 19s 6s/step - loss: 0.1583 - proj_std: 0.0118 - pred_std: 0.0070 - val_loss: 0.0526 - val_proj_std: 0.0058 - val_pred_std: 0.0017 - binary_accuracy: 0.7374\n",
            "Epoch 54/100\n",
            "4/4 [==============================] - ETA: 0s - loss: 0.1612 - proj_std: 0.0124 - pred_std: 0.0077binary_accuracy: 0.7172\n",
            "4/4 [==============================] - 21s 6s/step - loss: 0.1612 - proj_std: 0.0124 - pred_std: 0.0077 - val_loss: 0.0549 - val_proj_std: 0.0060 - val_pred_std: 0.0018 - binary_accuracy: 0.7172\n",
            "Epoch 55/100\n",
            "4/4 [==============================] - ETA: 0s - loss: 0.1742 - proj_std: 0.0126 - pred_std: 0.0077binary_accuracy: 0.7172\n",
            "4/4 [==============================] - 19s 6s/step - loss: 0.1742 - proj_std: 0.0126 - pred_std: 0.0077 - val_loss: 0.0649 - val_proj_std: 0.0067 - val_pred_std: 0.0025 - binary_accuracy: 0.7172\n",
            "Epoch 56/100\n",
            "4/4 [==============================] - ETA: 0s - loss: 0.1633 - proj_std: 0.0125 - pred_std: 0.0078binary_accuracy: 0.7273\n",
            "4/4 [==============================] - 19s 6s/step - loss: 0.1633 - proj_std: 0.0125 - pred_std: 0.0078 - val_loss: 0.1248 - val_proj_std: 0.0103 - val_pred_std: 0.0059 - binary_accuracy: 0.7273\n",
            "Epoch 57/100\n",
            "4/4 [==============================] - ETA: 0s - loss: 0.1604 - proj_std: 0.0125 - pred_std: 0.0080binary_accuracy: 0.7172\n",
            "4/4 [==============================] - 19s 6s/step - loss: 0.1604 - proj_std: 0.0125 - pred_std: 0.0080 - val_loss: 0.1898 - val_proj_std: 0.0136 - val_pred_std: 0.0089 - binary_accuracy: 0.7172\n",
            "Epoch 58/100\n",
            "4/4 [==============================] - ETA: 0s - loss: 0.1632 - proj_std: 0.0124 - pred_std: 0.0078binary_accuracy: 0.7172\n",
            "4/4 [==============================] - 14s 4s/step - loss: 0.1632 - proj_std: 0.0124 - pred_std: 0.0078 - val_loss: 0.1892 - val_proj_std: 0.0132 - val_pred_std: 0.0085 - binary_accuracy: 0.7172\n",
            "Epoch 59/100\n",
            "4/4 [==============================] - ETA: 0s - loss: 0.1688 - proj_std: 0.0124 - pred_std: 0.0078binary_accuracy: 0.7374\n",
            "4/4 [==============================] - 14s 4s/step - loss: 0.1688 - proj_std: 0.0124 - pred_std: 0.0078 - val_loss: 0.1577 - val_proj_std: 0.0119 - val_pred_std: 0.0074 - binary_accuracy: 0.7374\n",
            "Epoch 60/100\n",
            "4/4 [==============================] - ETA: 0s - loss: 0.1755 - proj_std: 0.0126 - pred_std: 0.0080binary_accuracy: 0.7172\n",
            "4/4 [==============================] - 14s 4s/step - loss: 0.1755 - proj_std: 0.0126 - pred_std: 0.0080 - val_loss: 0.1126 - val_proj_std: 0.0094 - val_pred_std: 0.0053 - binary_accuracy: 0.7172\n",
            "Epoch 61/100\n",
            "4/4 [==============================] - ETA: 0s - loss: 0.1750 - proj_std: 0.0127 - pred_std: 0.0081binary_accuracy: 0.6970\n",
            "4/4 [==============================] - 14s 4s/step - loss: 0.1750 - proj_std: 0.0127 - pred_std: 0.0081 - val_loss: 0.1486 - val_proj_std: 0.0118 - val_pred_std: 0.0077 - binary_accuracy: 0.6970\n",
            "Epoch 62/100\n",
            "4/4 [==============================] - ETA: 0s - loss: 0.1795 - proj_std: 0.0128 - pred_std: 0.0081binary_accuracy: 0.6465\n",
            "4/4 [==============================] - 14s 4s/step - loss: 0.1795 - proj_std: 0.0128 - pred_std: 0.0081 - val_loss: 0.1365 - val_proj_std: 0.0112 - val_pred_std: 0.0073 - binary_accuracy: 0.6465\n",
            "Epoch 63/100\n",
            "4/4 [==============================] - ETA: 0s - loss: 0.1730 - proj_std: 0.0129 - pred_std: 0.0082binary_accuracy: 0.6364\n",
            "4/4 [==============================] - 19s 6s/step - loss: 0.1730 - proj_std: 0.0129 - pred_std: 0.0082 - val_loss: 0.1069 - val_proj_std: 0.0094 - val_pred_std: 0.0056 - binary_accuracy: 0.6364\n",
            "Epoch 64/100\n",
            "4/4 [==============================] - ETA: 0s - loss: 0.1771 - proj_std: 0.0133 - pred_std: 0.0085binary_accuracy: 0.6364\n",
            "4/4 [==============================] - 19s 6s/step - loss: 0.1771 - proj_std: 0.0133 - pred_std: 0.0085 - val_loss: 0.0971 - val_proj_std: 0.0088 - val_pred_std: 0.0051 - binary_accuracy: 0.6364\n",
            "Epoch 65/100\n",
            "4/4 [==============================] - ETA: 0s - loss: 0.1952 - proj_std: 0.0134 - pred_std: 0.0086binary_accuracy: 0.6566\n",
            "4/4 [==============================] - 19s 6s/step - loss: 0.1952 - proj_std: 0.0134 - pred_std: 0.0086 - val_loss: 0.1049 - val_proj_std: 0.0092 - val_pred_std: 0.0059 - binary_accuracy: 0.6566\n",
            "Epoch 66/100\n",
            "4/4 [==============================] - ETA: 0s - loss: 0.1712 - proj_std: 0.0125 - pred_std: 0.0078binary_accuracy: 0.6667\n",
            "4/4 [==============================] - 14s 4s/step - loss: 0.1712 - proj_std: 0.0125 - pred_std: 0.0078 - val_loss: 0.1028 - val_proj_std: 0.0090 - val_pred_std: 0.0057 - binary_accuracy: 0.6667\n",
            "Epoch 67/100\n",
            "4/4 [==============================] - ETA: 0s - loss: 0.1772 - proj_std: 0.0127 - pred_std: 0.0082binary_accuracy: 0.6768\n",
            "4/4 [==============================] - 14s 4s/step - loss: 0.1772 - proj_std: 0.0127 - pred_std: 0.0082 - val_loss: 0.0700 - val_proj_std: 0.0070 - val_pred_std: 0.0034 - binary_accuracy: 0.6768\n",
            "Epoch 68/100\n",
            "4/4 [==============================] - ETA: 0s - loss: 0.1757 - proj_std: 0.0129 - pred_std: 0.0083binary_accuracy: 0.6869\n",
            "4/4 [==============================] - 19s 6s/step - loss: 0.1757 - proj_std: 0.0129 - pred_std: 0.0083 - val_loss: 0.0641 - val_proj_std: 0.0066 - val_pred_std: 0.0029 - binary_accuracy: 0.6869\n",
            "Epoch 69/100\n",
            "4/4 [==============================] - ETA: 0s - loss: 0.1627 - proj_std: 0.0128 - pred_std: 0.0083binary_accuracy: 0.6162\n",
            "4/4 [==============================] - 19s 6s/step - loss: 0.1627 - proj_std: 0.0128 - pred_std: 0.0083 - val_loss: 0.0996 - val_proj_std: 0.0088 - val_pred_std: 0.0047 - binary_accuracy: 0.6162\n",
            "Epoch 70/100\n",
            "4/4 [==============================] - ETA: 0s - loss: 0.1850 - proj_std: 0.0134 - pred_std: 0.0088binary_accuracy: 0.6465\n",
            "4/4 [==============================] - 14s 4s/step - loss: 0.1850 - proj_std: 0.0134 - pred_std: 0.0088 - val_loss: 0.1054 - val_proj_std: 0.0092 - val_pred_std: 0.0050 - binary_accuracy: 0.6465\n",
            "Epoch 71/100\n",
            "4/4 [==============================] - ETA: 0s - loss: 0.1860 - proj_std: 0.0134 - pred_std: 0.0088binary_accuracy: 0.7172\n",
            "4/4 [==============================] - 19s 6s/step - loss: 0.1860 - proj_std: 0.0134 - pred_std: 0.0088 - val_loss: 0.1327 - val_proj_std: 0.0112 - val_pred_std: 0.0074 - binary_accuracy: 0.7172\n",
            "Epoch 72/100\n",
            "4/4 [==============================] - ETA: 0s - loss: 0.1922 - proj_std: 0.0133 - pred_std: 0.0088binary_accuracy: 0.6566\n",
            "4/4 [==============================] - 19s 6s/step - loss: 0.1922 - proj_std: 0.0133 - pred_std: 0.0088 - val_loss: 0.1732 - val_proj_std: 0.0131 - val_pred_std: 0.0089 - binary_accuracy: 0.6566\n",
            "Epoch 73/100\n",
            "4/4 [==============================] - ETA: 0s - loss: 0.1858 - proj_std: 0.0134 - pred_std: 0.0088binary_accuracy: 0.6566\n",
            "4/4 [==============================] - 14s 4s/step - loss: 0.1858 - proj_std: 0.0134 - pred_std: 0.0088 - val_loss: 0.2458 - val_proj_std: 0.0146 - val_pred_std: 0.0101 - binary_accuracy: 0.6566\n",
            "Epoch 74/100\n",
            "4/4 [==============================] - ETA: 0s - loss: 0.1875 - proj_std: 0.0135 - pred_std: 0.0090binary_accuracy: 0.6566\n",
            "4/4 [==============================] - 19s 6s/step - loss: 0.1875 - proj_std: 0.0135 - pred_std: 0.0090 - val_loss: 0.2394 - val_proj_std: 0.0141 - val_pred_std: 0.0096 - binary_accuracy: 0.6566\n",
            "Epoch 75/100\n",
            "4/4 [==============================] - ETA: 0s - loss: 0.1967 - proj_std: 0.0138 - pred_std: 0.0092binary_accuracy: 0.6263\n",
            "4/4 [==============================] - 14s 4s/step - loss: 0.1967 - proj_std: 0.0138 - pred_std: 0.0092 - val_loss: 0.1369 - val_proj_std: 0.0108 - val_pred_std: 0.0066 - binary_accuracy: 0.6263\n",
            "Epoch 76/100\n",
            "4/4 [==============================] - ETA: 0s - loss: 0.1874 - proj_std: 0.0135 - pred_std: 0.0089binary_accuracy: 0.6970\n",
            "4/4 [==============================] - 14s 4s/step - loss: 0.1874 - proj_std: 0.0135 - pred_std: 0.0089 - val_loss: 0.0757 - val_proj_std: 0.0074 - val_pred_std: 0.0034 - binary_accuracy: 0.6970\n",
            "Epoch 77/100\n",
            "4/4 [==============================] - ETA: 0s - loss: 0.1859 - proj_std: 0.0135 - pred_std: 0.0088binary_accuracy: 0.6566\n",
            "4/4 [==============================] - 19s 6s/step - loss: 0.1859 - proj_std: 0.0135 - pred_std: 0.0088 - val_loss: 0.0962 - val_proj_std: 0.0086 - val_pred_std: 0.0044 - binary_accuracy: 0.6566\n",
            "Epoch 78/100\n",
            "4/4 [==============================] - ETA: 0s - loss: 0.1977 - proj_std: 0.0138 - pred_std: 0.0091binary_accuracy: 0.6263\n",
            "4/4 [==============================] - 19s 6s/step - loss: 0.1977 - proj_std: 0.0138 - pred_std: 0.0091 - val_loss: 0.1921 - val_proj_std: 0.0133 - val_pred_std: 0.0086 - binary_accuracy: 0.6263\n",
            "Epoch 79/100\n",
            "4/4 [==============================] - ETA: 0s - loss: 0.1993 - proj_std: 0.0141 - pred_std: 0.0094binary_accuracy: 0.6465\n",
            "4/4 [==============================] - 14s 4s/step - loss: 0.1993 - proj_std: 0.0141 - pred_std: 0.0094 - val_loss: 0.3096 - val_proj_std: 0.0162 - val_pred_std: 0.0113 - binary_accuracy: 0.6465\n",
            "Epoch 80/100\n",
            "4/4 [==============================] - ETA: 0s - loss: 0.1939 - proj_std: 0.0138 - pred_std: 0.0092binary_accuracy: 0.6869\n",
            "4/4 [==============================] - 14s 4s/step - loss: 0.1939 - proj_std: 0.0138 - pred_std: 0.0092 - val_loss: 0.3559 - val_proj_std: 0.0176 - val_pred_std: 0.0126 - binary_accuracy: 0.6869\n",
            "Epoch 81/100\n",
            "4/4 [==============================] - ETA: 0s - loss: 0.1963 - proj_std: 0.0138 - pred_std: 0.0091binary_accuracy: 0.7071\n",
            "4/4 [==============================] - 19s 6s/step - loss: 0.1963 - proj_std: 0.0138 - pred_std: 0.0091 - val_loss: 0.3307 - val_proj_std: 0.0170 - val_pred_std: 0.0119 - binary_accuracy: 0.7071\n",
            "Epoch 82/100\n",
            "4/4 [==============================] - ETA: 0s - loss: 0.2055 - proj_std: 0.0140 - pred_std: 0.0093binary_accuracy: 0.6768\n",
            "4/4 [==============================] - 14s 4s/step - loss: 0.2055 - proj_std: 0.0140 - pred_std: 0.0093 - val_loss: 0.2445 - val_proj_std: 0.0152 - val_pred_std: 0.0101 - binary_accuracy: 0.6768\n",
            "Epoch 83/100\n",
            "4/4 [==============================] - ETA: 0s - loss: 0.1956 - proj_std: 0.0139 - pred_std: 0.0092binary_accuracy: 0.6566\n",
            "4/4 [==============================] - 14s 4s/step - loss: 0.1956 - proj_std: 0.0139 - pred_std: 0.0092 - val_loss: 0.1492 - val_proj_std: 0.0114 - val_pred_std: 0.0065 - binary_accuracy: 0.6566\n",
            "Epoch 84/100\n",
            "4/4 [==============================] - ETA: 0s - loss: 0.2090 - proj_std: 0.0143 - pred_std: 0.0095binary_accuracy: 0.6667\n",
            "4/4 [==============================] - 14s 4s/step - loss: 0.2090 - proj_std: 0.0143 - pred_std: 0.0095 - val_loss: 0.1063 - val_proj_std: 0.0090 - val_pred_std: 0.0037 - binary_accuracy: 0.6667\n",
            "Epoch 85/100\n",
            "4/4 [==============================] - ETA: 0s - loss: 0.2075 - proj_std: 0.0144 - pred_std: 0.0097binary_accuracy: 0.6566\n",
            "4/4 [==============================] - 19s 6s/step - loss: 0.2075 - proj_std: 0.0144 - pred_std: 0.0097 - val_loss: 0.1250 - val_proj_std: 0.0101 - val_pred_std: 0.0053 - binary_accuracy: 0.6566\n",
            "Epoch 86/100\n",
            "4/4 [==============================] - ETA: 0s - loss: 0.2020 - proj_std: 0.0143 - pred_std: 0.0095binary_accuracy: 0.6566\n",
            "4/4 [==============================] - 14s 4s/step - loss: 0.2020 - proj_std: 0.0143 - pred_std: 0.0095 - val_loss: 0.1427 - val_proj_std: 0.0115 - val_pred_std: 0.0070 - binary_accuracy: 0.6566\n",
            "Epoch 87/100\n",
            "4/4 [==============================] - ETA: 0s - loss: 0.1929 - proj_std: 0.0141 - pred_std: 0.0094binary_accuracy: 0.6667\n",
            "4/4 [==============================] - 19s 6s/step - loss: 0.1929 - proj_std: 0.0141 - pred_std: 0.0094 - val_loss: 0.1434 - val_proj_std: 0.0116 - val_pred_std: 0.0073 - binary_accuracy: 0.6667\n",
            "Epoch 88/100\n",
            "4/4 [==============================] - ETA: 0s - loss: 0.2006 - proj_std: 0.0141 - pred_std: 0.0094binary_accuracy: 0.6566\n",
            "4/4 [==============================] - 14s 4s/step - loss: 0.2006 - proj_std: 0.0141 - pred_std: 0.0094 - val_loss: 0.1469 - val_proj_std: 0.0119 - val_pred_std: 0.0076 - binary_accuracy: 0.6566\n",
            "Epoch 89/100\n",
            "4/4 [==============================] - ETA: 0s - loss: 0.2046 - proj_std: 0.0145 - pred_std: 0.0097binary_accuracy: 0.6162\n",
            "4/4 [==============================] - 19s 6s/step - loss: 0.2046 - proj_std: 0.0145 - pred_std: 0.0097 - val_loss: 0.1645 - val_proj_std: 0.0128 - val_pred_std: 0.0084 - binary_accuracy: 0.6162\n",
            "Epoch 90/100\n",
            "4/4 [==============================] - ETA: 0s - loss: 0.2000 - proj_std: 0.0142 - pred_std: 0.0095binary_accuracy: 0.6061\n",
            "4/4 [==============================] - 19s 6s/step - loss: 0.2000 - proj_std: 0.0142 - pred_std: 0.0095 - val_loss: 0.1855 - val_proj_std: 0.0138 - val_pred_std: 0.0092 - binary_accuracy: 0.6061\n",
            "Epoch 91/100\n",
            "4/4 [==============================] - ETA: 0s - loss: 0.2286 - proj_std: 0.0147 - pred_std: 0.0099binary_accuracy: 0.6263\n",
            "4/4 [==============================] - 19s 6s/step - loss: 0.2286 - proj_std: 0.0147 - pred_std: 0.0099 - val_loss: 0.1994 - val_proj_std: 0.0144 - val_pred_std: 0.0096 - binary_accuracy: 0.6263\n",
            "Epoch 92/100\n",
            "4/4 [==============================] - ETA: 0s - loss: 0.2101 - proj_std: 0.0145 - pred_std: 0.0098binary_accuracy: 0.6263\n",
            "4/4 [==============================] - 19s 6s/step - loss: 0.2101 - proj_std: 0.0145 - pred_std: 0.0098 - val_loss: 0.2197 - val_proj_std: 0.0150 - val_pred_std: 0.0101 - binary_accuracy: 0.6263\n",
            "Epoch 93/100\n",
            "4/4 [==============================] - ETA: 0s - loss: 0.2071 - proj_std: 0.0146 - pred_std: 0.0098binary_accuracy: 0.6263\n",
            "4/4 [==============================] - 19s 6s/step - loss: 0.2071 - proj_std: 0.0146 - pred_std: 0.0098 - val_loss: 0.2341 - val_proj_std: 0.0153 - val_pred_std: 0.0103 - binary_accuracy: 0.6263\n",
            "Epoch 94/100\n",
            "4/4 [==============================] - ETA: 0s - loss: 0.2064 - proj_std: 0.0146 - pred_std: 0.0098binary_accuracy: 0.6162\n",
            "4/4 [==============================] - 14s 4s/step - loss: 0.2064 - proj_std: 0.0146 - pred_std: 0.0098 - val_loss: 0.2338 - val_proj_std: 0.0153 - val_pred_std: 0.0104 - binary_accuracy: 0.6162\n",
            "Epoch 95/100\n",
            "4/4 [==============================] - ETA: 0s - loss: 0.2032 - proj_std: 0.0146 - pred_std: 0.0098binary_accuracy: 0.6061\n",
            "4/4 [==============================] - 14s 4s/step - loss: 0.2032 - proj_std: 0.0146 - pred_std: 0.0098 - val_loss: 0.2293 - val_proj_std: 0.0153 - val_pred_std: 0.0103 - binary_accuracy: 0.6061\n",
            "Epoch 96/100\n",
            "4/4 [==============================] - ETA: 0s - loss: 0.2197 - proj_std: 0.0147 - pred_std: 0.0098binary_accuracy: 0.6162\n",
            "4/4 [==============================] - 14s 4s/step - loss: 0.2197 - proj_std: 0.0147 - pred_std: 0.0098 - val_loss: 0.2315 - val_proj_std: 0.0153 - val_pred_std: 0.0103 - binary_accuracy: 0.6162\n",
            "Epoch 97/100\n",
            "4/4 [==============================] - ETA: 0s - loss: 0.2176 - proj_std: 0.0147 - pred_std: 0.0099binary_accuracy: 0.6162\n",
            "4/4 [==============================] - 14s 4s/step - loss: 0.2176 - proj_std: 0.0147 - pred_std: 0.0099 - val_loss: 0.2250 - val_proj_std: 0.0153 - val_pred_std: 0.0103 - binary_accuracy: 0.6162\n",
            "Epoch 98/100\n",
            "4/4 [==============================] - ETA: 0s - loss: 0.2258 - proj_std: 0.0148 - pred_std: 0.0100binary_accuracy: 0.6263\n",
            "4/4 [==============================] - 19s 6s/step - loss: 0.2258 - proj_std: 0.0148 - pred_std: 0.0100 - val_loss: 0.2296 - val_proj_std: 0.0152 - val_pred_std: 0.0103 - binary_accuracy: 0.6263\n",
            "Epoch 99/100\n",
            "4/4 [==============================] - ETA: 0s - loss: 0.2033 - proj_std: 0.0149 - pred_std: 0.0101binary_accuracy: 0.6364\n",
            "4/4 [==============================] - 20s 6s/step - loss: 0.2033 - proj_std: 0.0149 - pred_std: 0.0101 - val_loss: 0.2222 - val_proj_std: 0.0151 - val_pred_std: 0.0102 - binary_accuracy: 0.6364\n",
            "Epoch 100/100\n",
            "4/4 [==============================] - ETA: 0s - loss: 0.2271 - proj_std: 0.0149 - pred_std: 0.0101binary_accuracy: 0.6465\n",
            "4/4 [==============================] - 14s 4s/step - loss: 0.2271 - proj_std: 0.0149 - pred_std: 0.0101 - val_loss: 0.2187 - val_proj_std: 0.0150 - val_pred_std: 0.0101 - binary_accuracy: 0.6465\n"
          ]
        }
      ],
      "source": [
        "history = contrastive_model.fit(\n",
        "    train_data,\n",
        "    epochs=PRE_TRAIN_EPOCHS,\n",
        "    steps_per_epoch=PRE_TRAIN_STEPS_PER_EPOCH,\n",
        "    validation_data=val_data,\n",
        "    validation_steps=VAL_STEPS_PER_EPOCH,\n",
        "    callbacks=[evb, tbc, mcp],\n",
        ")"
      ]
    },
    {
      "cell_type": "code",
      "execution_count": 32,
      "metadata": {
        "colab": {
          "base_uri": "https://localhost:8080/",
          "height": 281
        },
        "id": "t10vnjzktNsq",
        "outputId": "d5ce0c8f-a3e8-48ee-9ffe-35bfef23773d"
      },
      "outputs": [
        {
          "output_type": "display_data",
          "data": {
            "text/plain": [
              "<Figure size 1080x288 with 2 Axes>"
            ],
            "image/png": "[encoded data removed]"
          },
          "metadata": {
            "needs_background": "light"
          }
        }
      ],
      "source": [
        "plt.figure(figsize=(15, 4))\n",
        "plt.subplot(1, 3, 1)\n",
        "plt.plot(history.history[\"loss\"])\n",
        "plt.grid()\n",
        "plt.title(f\"{loss.name} - Loss\")\n",
        "\n",
        "plt.subplot(1, 3, 2)\n",
        "plt.plot(history.history[\"binary_accuracy\"], label=\"acc\")\n",
        "plt.grid()\n",
        "plt.title(f\"{loss.name} - Accuracy\")\n",
        "plt.legend()\n",
        "\n",
        "plt.show()"
      ]
    },
    {
      "cell_type": "markdown",
      "metadata": {
        "id": "Yw21pRJxtNsq"
      },
      "source": [
        "## Save and Reload"
      ]
    },
    {
      "cell_type": "code",
      "execution_count": 33,
      "metadata": {
        "colab": {
          "base_uri": "https://localhost:8080/"
        },
        "id": "ruK7phuCtNsq",
        "outputId": "21748391-6217-4a77-9e95-1d98269de9f5"
      },
      "outputs": [
        {
          "output_type": "stream",
          "name": "stderr",
          "text": [
            "WARNING:tensorflow:Compiled the loaded model, but the compiled metrics have yet to be built. `model.compile_metrics` will be empty until you train or evaluate the model.\n"
          ]
        },
        {
          "output_type": "stream",
          "name": "stdout",
          "text": [
            "[Saving backbone model]\n",
            "|-path:tfsim_contrastive_model/models/trained_model/backbone\n"
          ]
        },
        {
          "output_type": "stream",
          "name": "stderr",
          "text": [
            "WARNING:absl:Found untraced functions such as _jit_compiled_convolution_op, _jit_compiled_convolution_op, _jit_compiled_convolution_op, _jit_compiled_convolution_op, _jit_compiled_convolution_op while saving (showing 5 of 21). These functions will not be directly callable after loading.\n",
            "WARNING:tensorflow:Compiled the loaded model, but the compiled metrics have yet to be built. `model.compile_metrics` will be empty until you train or evaluate the model.\n"
          ]
        },
        {
          "output_type": "stream",
          "name": "stdout",
          "text": [
            "The index was not saved with the model.The model does not currently have an index. To use indexing you must call either model.compile() or model.create_index() and set a valid Distance.\n",
            "[Saving projector model]\n",
            "|-path:tfsim_contrastive_model/models/trained_model/projector\n"
          ]
        },
        {
          "output_type": "stream",
          "name": "stderr",
          "text": [
            "WARNING:tensorflow:Compiled the loaded model, but the compiled metrics have yet to be built. `model.compile_metrics` will be empty until you train or evaluate the model.\n"
          ]
        },
        {
          "output_type": "stream",
          "name": "stdout",
          "text": [
            "[Saving predictor model]\n",
            "|-path:tfsim_contrastive_model/models/trained_model/predictor\n"
          ]
        },
        {
          "output_type": "stream",
          "name": "stderr",
          "text": [
            "/usr/local/lib/python3.8/dist-packages/numpy/lib/npyio.py:528: VisibleDeprecationWarning: Creating an ndarray from ragged nested sequences (which is a list-or-tuple of lists-or-tuples-or ndarrays with different lengths or shapes) is deprecated. If you meant to do this, you must specify 'dtype=object' when creating the ndarray.\n",
            "  arr = np.asanyarray(arr)\n"
          ]
        }
      ],
      "source": [
        "contrastive_model.save(DATA_PATH / \"models\" / f\"trained_model\")"
      ]
    },
    {
      "cell_type": "code",
      "execution_count": 34,
      "metadata": {
        "id": "KvxZGY3PtNsq"
      },
      "outputs": [],
      "source": [
        "del contrastive_model"
      ]
    },
    {
      "cell_type": "code",
      "execution_count": 35,
      "metadata": {
        "colab": {
          "base_uri": "https://localhost:8080/"
        },
        "id": "bSQpO3patNsq",
        "outputId": "14571a3b-caff-4982-aefb-9388011f1bff"
      },
      "outputs": [
        {
          "output_type": "stream",
          "name": "stderr",
          "text": [
            "WARNING:absl:Importing a function (__inference_internal_grad_fn_1685818) with ops with unsaved custom gradients. Will likely fail if a gradient is requested.\n",
            "WARNING:absl:Importing a function (__inference_internal_grad_fn_1686708) with ops with unsaved custom gradients. Will likely fail if a gradient is requested.\n",
            "WARNING:absl:Importing a function (__inference_internal_grad_fn_1686338) with ops with unsaved custom gradients. Will likely fail if a gradient is requested.\n",
            "WARNING:absl:Importing a function (__inference_internal_grad_fn_1686308) with ops with unsaved custom gradients. Will likely fail if a gradient is requested.\n",
            "WARNING:absl:Importing a function (__inference_internal_grad_fn_1686188) with ops with unsaved custom gradients. Will likely fail if a gradient is requested.\n",
            "WARNING:absl:Importing a function (__inference_internal_grad_fn_1685898) with ops with unsaved custom gradients. Will likely fail if a gradient is requested.\n",
            "WARNING:absl:Importing a function (__inference_internal_grad_fn_1685948) with ops with unsaved custom gradients. Will likely fail if a gradient is requested.\n",
            "WARNING:absl:Importing a function (__inference_internal_grad_fn_1687908) with ops with unsaved custom gradients. Will likely fail if a gradient is requested.\n",
            "WARNING:absl:Importing a function (__inference_internal_grad_fn_1685748) with ops with unsaved custom gradients. Will likely fail if a gradient is requested.\n",
            "WARNING:absl:Importing a function (__inference_internal_grad_fn_1687228) with ops with unsaved custom gradients. Will likely fail if a gradient is requested.\n",
            "WARNING:absl:Importing a function (__inference_internal_grad_fn_1686968) with ops with unsaved custom gradients. Will likely fail if a gradient is requested.\n",
            "WARNING:absl:Importing a function (__inference_internal_grad_fn_1686508) with ops with unsaved custom gradients. Will likely fail if a gradient is requested.\n",
            "WARNING:absl:Importing a function (__inference_internal_grad_fn_1687758) with ops with unsaved custom gradients. Will likely fail if a gradient is requested.\n",
            "WARNING:absl:Importing a function (__inference_internal_grad_fn_1687038) with ops with unsaved custom gradients. Will likely fail if a gradient is requested.\n",
            "WARNING:absl:Importing a function (__inference_internal_grad_fn_1687558) with ops with unsaved custom gradients. Will likely fail if a gradient is requested.\n",
            "WARNING:absl:Importing a function (__inference_internal_grad_fn_1687478) with ops with unsaved custom gradients. Will likely fail if a gradient is requested.\n",
            "WARNING:absl:Importing a function (__inference_internal_grad_fn_1687318) with ops with unsaved custom gradients. Will likely fail if a gradient is requested.\n",
            "WARNING:absl:Importing a function (__inference_internal_grad_fn_1686748) with ops with unsaved custom gradients. Will likely fail if a gradient is requested.\n",
            "WARNING:absl:Importing a function (__inference_internal_grad_fn_1685848) with ops with unsaved custom gradients. Will likely fail if a gradient is requested.\n",
            "WARNING:absl:Importing a function (__inference_internal_grad_fn_1686388) with ops with unsaved custom gradients. Will likely fail if a gradient is requested.\n",
            "WARNING:absl:Importing a function (__inference_internal_grad_fn_1687738) with ops with unsaved custom gradients. Will likely fail if a gradient is requested.\n",
            "WARNING:absl:Importing a function (__inference_internal_grad_fn_1687268) with ops with unsaved custom gradients. Will likely fail if a gradient is requested.\n",
            "WARNING:absl:Importing a function (__inference_internal_grad_fn_1688178) with ops with unsaved custom gradients. Will likely fail if a gradient is requested.\n",
            "WARNING:absl:Importing a function (__inference_internal_grad_fn_1687468) with ops with unsaved custom gradients. Will likely fail if a gradient is requested.\n",
            "WARNING:absl:Importing a function (__inference_internal_grad_fn_1687348) with ops with unsaved custom gradients. Will likely fail if a gradient is requested.\n",
            "WARNING:absl:Importing a function (__inference_internal_grad_fn_1688168) with ops with unsaved custom gradients. Will likely fail if a gradient is requested.\n",
            "WARNING:absl:Importing a function (__inference_internal_grad_fn_1688138) with ops with unsaved custom gradients. Will likely fail if a gradient is requested.\n",
            "WARNING:absl:Importing a function (__inference_internal_grad_fn_1686878) with ops with unsaved custom gradients. Will likely fail if a gradient is requested.\n",
            "WARNING:absl:Importing a function (__inference_internal_grad_fn_1686908) with ops with unsaved custom gradients. Will likely fail if a gradient is requested.\n",
            "WARNING:absl:Importing a function (__inference_internal_grad_fn_1686098) with ops with unsaved custom gradients. Will likely fail if a gradient is requested.\n",
            "WARNING:absl:Importing a function (__inference_internal_grad_fn_1686428) with ops with unsaved custom gradients. Will likely fail if a gradient is requested.\n",
            "WARNING:absl:Importing a function (__inference_internal_grad_fn_1685878) with ops with unsaved custom gradients. Will likely fail if a gradient is requested.\n",
            "WARNING:absl:Importing a function (__inference_internal_grad_fn_1686068) with ops with unsaved custom gradients. Will likely fail if a gradient is requested.\n",
            "WARNING:absl:Importing a function (__inference_internal_grad_fn_1686808) with ops with unsaved custom gradients. Will likely fail if a gradient is requested.\n",
            "WARNING:absl:Importing a function (__inference_internal_grad_fn_1686168) with ops with unsaved custom gradients. Will likely fail if a gradient is requested.\n",
            "WARNING:absl:Importing a function (__inference_internal_grad_fn_1686318) with ops with unsaved custom gradients. Will likely fail if a gradient is requested.\n",
            "WARNING:absl:Importing a function (__inference_internal_grad_fn_1688118) with ops with unsaved custom gradients. Will likely fail if a gradient is requested.\n",
            "WARNING:absl:Importing a function (__inference_internal_grad_fn_1687528) with ops with unsaved custom gradients. Will likely fail if a gradient is requested.\n",
            "WARNING:absl:Importing a function (__inference_internal_grad_fn_1685988) with ops with unsaved custom gradients. Will likely fail if a gradient is requested.\n",
            "WARNING:absl:Importing a function (__inference_internal_grad_fn_1687928) with ops with unsaved custom gradients. Will likely fail if a gradient is requested.\n",
            "WARNING:absl:Importing a function (__inference_internal_grad_fn_1686048) with ops with unsaved custom gradients. Will likely fail if a gradient is requested.\n",
            "WARNING:absl:Importing a function (__inference_internal_grad_fn_1686088) with ops with unsaved custom gradients. Will likely fail if a gradient is requested.\n",
            "WARNING:absl:Importing a function (__inference_internal_grad_fn_1685968) with ops with unsaved custom gradients. Will likely fail if a gradient is requested.\n",
            "WARNING:absl:Importing a function (__inference_internal_grad_fn_1687398) with ops with unsaved custom gradients. Will likely fail if a gradient is requested.\n",
            "WARNING:absl:Importing a function (__inference_internal_grad_fn_1688078) with ops with unsaved custom gradients. Will likely fail if a gradient is requested.\n",
            "WARNING:absl:Importing a function (__inference_internal_grad_fn_1686758) with ops with unsaved custom gradients. Will likely fail if a gradient is requested.\n",
            "WARNING:absl:Importing a function (__inference_internal_grad_fn_1686718) with ops with unsaved custom gradients. Will likely fail if a gradient is requested.\n",
            "WARNING:absl:Importing a function (__inference_internal_grad_fn_1687358) with ops with unsaved custom gradients. Will likely fail if a gradient is requested.\n",
            "WARNING:absl:Importing a function (__inference_internal_grad_fn_1687138) with ops with unsaved custom gradients. Will likely fail if a gradient is requested.\n",
            "WARNING:absl:Importing a function (__inference_internal_grad_fn_1688188) with ops with unsaved custom gradients. Will likely fail if a gradient is requested.\n",
            "WARNING:absl:Importing a function (__inference_internal_grad_fn_1686918) with ops with unsaved custom gradients. Will likely fail if a gradient is requested.\n",
            "WARNING:absl:Importing a function (__inference_internal_grad_fn_1685798) with ops with unsaved custom gradients. Will likely fail if a gradient is requested.\n",
            "WARNING:absl:Importing a function (__inference_internal_grad_fn_1687628) with ops with unsaved custom gradients. Will likely fail if a gradient is requested.\n",
            "WARNING:absl:Importing a function (__inference_internal_grad_fn_1687458) with ops with unsaved custom gradients. Will likely fail if a gradient is requested.\n",
            "WARNING:absl:Importing a function (__inference_internal_grad_fn_1687328) with ops with unsaved custom gradients. Will likely fail if a gradient is requested.\n",
            "WARNING:absl:Importing a function (__inference_internal_grad_fn_1686778) with ops with unsaved custom gradients. Will likely fail if a gradient is requested.\n",
            "WARNING:absl:Importing a function (__inference_internal_grad_fn_1686888) with ops with unsaved custom gradients. Will likely fail if a gradient is requested.\n",
            "WARNING:absl:Importing a function (__inference_internal_grad_fn_1687818) with ops with unsaved custom gradients. Will likely fail if a gradient is requested.\n",
            "WARNING:absl:Importing a function (__inference_internal_grad_fn_1686898) with ops with unsaved custom gradients. Will likely fail if a gradient is requested.\n",
            "WARNING:absl:Importing a function (__inference_internal_grad_fn_1686438) with ops with unsaved custom gradients. Will likely fail if a gradient is requested.\n",
            "WARNING:absl:Importing a function (__inference_internal_grad_fn_1687408) with ops with unsaved custom gradients. Will likely fail if a gradient is requested.\n",
            "WARNING:absl:Importing a function (__inference_internal_grad_fn_1686418) with ops with unsaved custom gradients. Will likely fail if a gradient is requested.\n",
            "WARNING:absl:Importing a function (__inference_internal_grad_fn_1687108) with ops with unsaved custom gradients. Will likely fail if a gradient is requested.\n",
            "WARNING:absl:Importing a function (__inference_internal_grad_fn_1687828) with ops with unsaved custom gradients. Will likely fail if a gradient is requested.\n",
            "WARNING:absl:Importing a function (__inference_internal_grad_fn_1686818) with ops with unsaved custom gradients. Will likely fail if a gradient is requested.\n",
            "WARNING:absl:Importing a function (__inference_internal_grad_fn_1686868) with ops with unsaved custom gradients. Will likely fail if a gradient is requested.\n",
            "WARNING:absl:Importing a function (__inference_internal_grad_fn_1687898) with ops with unsaved custom gradients. Will likely fail if a gradient is requested.\n",
            "WARNING:absl:Importing a function (__inference_internal_grad_fn_1687078) with ops with unsaved custom gradients. Will likely fail if a gradient is requested.\n",
            "WARNING:absl:Importing a function (__inference_internal_grad_fn_1685958) with ops with unsaved custom gradients. Will likely fail if a gradient is requested.\n",
            "WARNING:absl:Importing a function (__inference_internal_grad_fn_1688218) with ops with unsaved custom gradients. Will likely fail if a gradient is requested.\n",
            "WARNING:absl:Importing a function (__inference_internal_grad_fn_1686158) with ops with unsaved custom gradients. Will likely fail if a gradient is requested.\n",
            "WARNING:absl:Importing a function (__inference_internal_grad_fn_1687498) with ops with unsaved custom gradients. Will likely fail if a gradient is requested.\n",
            "WARNING:absl:Importing a function (__inference_internal_grad_fn_1686258) with ops with unsaved custom gradients. Will likely fail if a gradient is requested.\n",
            "WARNING:absl:Importing a function (__inference_internal_grad_fn_1686768) with ops with unsaved custom gradients. Will likely fail if a gradient is requested.\n",
            "WARNING:absl:Importing a function (__inference_internal_grad_fn_1687058) with ops with unsaved custom gradients. Will likely fail if a gradient is requested.\n",
            "WARNING:absl:Importing a function (__inference_internal_grad_fn_1687118) with ops with unsaved custom gradients. Will likely fail if a gradient is requested.\n",
            "WARNING:absl:Importing a function (__inference_internal_grad_fn_1685788) with ops with unsaved custom gradients. Will likely fail if a gradient is requested.\n",
            "WARNING:absl:Importing a function (__inference_internal_grad_fn_1688148) with ops with unsaved custom gradients. Will likely fail if a gradient is requested.\n",
            "WARNING:absl:Importing a function (__inference_internal_grad_fn_1687538) with ops with unsaved custom gradients. Will likely fail if a gradient is requested.\n",
            "WARNING:absl:Importing a function (__inference_internal_grad_fn_1686668) with ops with unsaved custom gradients. Will likely fail if a gradient is requested.\n",
            "WARNING:absl:Importing a function (__inference_internal_grad_fn_1686238) with ops with unsaved custom gradients. Will likely fail if a gradient is requested.\n",
            "WARNING:absl:Importing a function (__inference_internal_grad_fn_1685938) with ops with unsaved custom gradients. Will likely fail if a gradient is requested.\n",
            "WARNING:absl:Importing a function (__inference_internal_grad_fn_1686498) with ops with unsaved custom gradients. Will likely fail if a gradient is requested.\n",
            "WARNING:absl:Importing a function (__inference_internal_grad_fn_1687648) with ops with unsaved custom gradients. Will likely fail if a gradient is requested.\n",
            "WARNING:absl:Importing a function (__inference_internal_grad_fn_1687748) with ops with unsaved custom gradients. Will likely fail if a gradient is requested.\n",
            "WARNING:absl:Importing a function (__inference_internal_grad_fn_1686958) with ops with unsaved custom gradients. Will likely fail if a gradient is requested.\n",
            "WARNING:absl:Importing a function (__inference_internal_grad_fn_1687248) with ops with unsaved custom gradients. Will likely fail if a gradient is requested.\n",
            "WARNING:absl:Importing a function (__inference_internal_grad_fn_1688048) with ops with unsaved custom gradients. Will likely fail if a gradient is requested.\n",
            "WARNING:absl:Importing a function (__inference_internal_grad_fn_1685888) with ops with unsaved custom gradients. Will likely fail if a gradient is requested.\n",
            "WARNING:absl:Importing a function (__inference_internal_grad_fn_1687788) with ops with unsaved custom gradients. Will likely fail if a gradient is requested.\n",
            "WARNING:absl:Importing a function (__inference_internal_grad_fn_1687948) with ops with unsaved custom gradients. Will likely fail if a gradient is requested.\n",
            "WARNING:absl:Importing a function (__inference_internal_grad_fn_1686448) with ops with unsaved custom gradients. Will likely fail if a gradient is requested.\n",
            "WARNING:absl:Importing a function (__inference_internal_grad_fn_1687728) with ops with unsaved custom gradients. Will likely fail if a gradient is requested.\n",
            "WARNING:absl:Importing a function (__inference_internal_grad_fn_1686678) with ops with unsaved custom gradients. Will likely fail if a gradient is requested.\n",
            "WARNING:absl:Importing a function (__inference_internal_grad_fn_1686728) with ops with unsaved custom gradients. Will likely fail if a gradient is requested.\n",
            "WARNING:absl:Importing a function (__inference_internal_grad_fn_1687368) with ops with unsaved custom gradients. Will likely fail if a gradient is requested.\n",
            "WARNING:absl:Importing a function (__inference_internal_grad_fn_1687128) with ops with unsaved custom gradients. Will likely fail if a gradient is requested.\n",
            "WARNING:absl:Importing a function (__inference_internal_grad_fn_1686488) with ops with unsaved custom gradients. Will likely fail if a gradient is requested.\n",
            "WARNING:absl:Importing a function (__inference_internal_grad_fn_1685918) with ops with unsaved custom gradients. Will likely fail if a gradient is requested.\n",
            "WARNING:absl:Importing a function (__inference_internal_grad_fn_1687578) with ops with unsaved custom gradients. Will likely fail if a gradient is requested.\n",
            "WARNING:absl:Importing a function (__inference_internal_grad_fn_1687188) with ops with unsaved custom gradients. Will likely fail if a gradient is requested.\n",
            "WARNING:absl:Importing a function (__inference_internal_grad_fn_1687438) with ops with unsaved custom gradients. Will likely fail if a gradient is requested.\n",
            "WARNING:absl:Importing a function (__inference_internal_grad_fn_1687988) with ops with unsaved custom gradients. Will likely fail if a gradient is requested.\n",
            "WARNING:absl:Importing a function (__inference_internal_grad_fn_1685908) with ops with unsaved custom gradients. Will likely fail if a gradient is requested.\n",
            "WARNING:absl:Importing a function (__inference_internal_grad_fn_1686578) with ops with unsaved custom gradients. Will likely fail if a gradient is requested.\n",
            "WARNING:absl:Importing a function (__inference_internal_grad_fn_1688008) with ops with unsaved custom gradients. Will likely fail if a gradient is requested.\n",
            "WARNING:absl:Importing a function (__inference_internal_grad_fn_1687608) with ops with unsaved custom gradients. Will likely fail if a gradient is requested.\n",
            "WARNING:absl:Importing a function (__inference_internal_grad_fn_1685998) with ops with unsaved custom gradients. Will likely fail if a gradient is requested.\n",
            "WARNING:absl:Importing a function (__inference_internal_grad_fn_1687618) with ops with unsaved custom gradients. Will likely fail if a gradient is requested.\n",
            "WARNING:absl:Importing a function (__inference_internal_grad_fn_1687298) with ops with unsaved custom gradients. Will likely fail if a gradient is requested.\n",
            "WARNING:absl:Importing a function (__inference_internal_grad_fn_1686798) with ops with unsaved custom gradients. Will likely fail if a gradient is requested.\n",
            "WARNING:absl:Importing a function (__inference_internal_grad_fn_1686398) with ops with unsaved custom gradients. Will likely fail if a gradient is requested.\n",
            "WARNING:absl:Importing a function (__inference_internal_grad_fn_1688028) with ops with unsaved custom gradients. Will likely fail if a gradient is requested.\n",
            "WARNING:absl:Importing a function (__inference_internal_grad_fn_1687018) with ops with unsaved custom gradients. Will likely fail if a gradient is requested.\n",
            "WARNING:absl:Importing a function (__inference_internal_grad_fn_1687838) with ops with unsaved custom gradients. Will likely fail if a gradient is requested.\n",
            "WARNING:absl:Importing a function (__inference_internal_grad_fn_1686208) with ops with unsaved custom gradients. Will likely fail if a gradient is requested.\n",
            "WARNING:absl:Importing a function (__inference_internal_grad_fn_1687068) with ops with unsaved custom gradients. Will likely fail if a gradient is requested.\n",
            "WARNING:absl:Importing a function (__inference_internal_grad_fn_1685738) with ops with unsaved custom gradients. Will likely fail if a gradient is requested.\n",
            "WARNING:absl:Importing a function (__inference_internal_grad_fn_1688098) with ops with unsaved custom gradients. Will likely fail if a gradient is requested.\n",
            "WARNING:absl:Importing a function (__inference_internal_grad_fn_1686558) with ops with unsaved custom gradients. Will likely fail if a gradient is requested.\n",
            "WARNING:absl:Importing a function (__inference_internal_grad_fn_1686978) with ops with unsaved custom gradients. Will likely fail if a gradient is requested.\n",
            "WARNING:absl:Importing a function (__inference_internal_grad_fn_1686528) with ops with unsaved custom gradients. Will likely fail if a gradient is requested.\n",
            "WARNING:absl:Importing a function (__inference_internal_grad_fn_1686688) with ops with unsaved custom gradients. Will likely fail if a gradient is requested.\n",
            "WARNING:absl:Importing a function (__inference_internal_grad_fn_1686248) with ops with unsaved custom gradients. Will likely fail if a gradient is requested.\n",
            "WARNING:absl:Importing a function (__inference_internal_grad_fn_1686848) with ops with unsaved custom gradients. Will likely fail if a gradient is requested.\n",
            "WARNING:absl:Importing a function (__inference_internal_grad_fn_1687888) with ops with unsaved custom gradients. Will likely fail if a gradient is requested.\n",
            "WARNING:absl:Importing a function (__inference_internal_grad_fn_1687678) with ops with unsaved custom gradients. Will likely fail if a gradient is requested.\n",
            "WARNING:absl:Importing a function (__inference_internal_grad_fn_1686608) with ops with unsaved custom gradients. Will likely fail if a gradient is requested.\n",
            "WARNING:absl:Importing a function (__inference_internal_grad_fn_1686588) with ops with unsaved custom gradients. Will likely fail if a gradient is requested.\n",
            "WARNING:absl:Importing a function (__inference_internal_grad_fn_1687638) with ops with unsaved custom gradients. Will likely fail if a gradient is requested.\n",
            "WARNING:absl:Importing a function (__inference_internal_grad_fn_1686298) with ops with unsaved custom gradients. Will likely fail if a gradient is requested.\n",
            "WARNING:absl:Importing a function (__inference_internal_grad_fn_1688018) with ops with unsaved custom gradients. Will likely fail if a gradient is requested.\n",
            "WARNING:absl:Importing a function (__inference_internal_grad_fn_1688208) with ops with unsaved custom gradients. Will likely fail if a gradient is requested.\n",
            "WARNING:absl:Importing a function (__inference_internal_grad_fn_1686658) with ops with unsaved custom gradients. Will likely fail if a gradient is requested.\n",
            "WARNING:absl:Importing a function (__inference_internal_grad_fn_1687868) with ops with unsaved custom gradients. Will likely fail if a gradient is requested.\n",
            "WARNING:absl:Importing a function (__inference_internal_grad_fn_1686178) with ops with unsaved custom gradients. Will likely fail if a gradient is requested.\n",
            "WARNING:absl:Importing a function (__inference_internal_grad_fn_1686218) with ops with unsaved custom gradients. Will likely fail if a gradient is requested.\n",
            "WARNING:absl:Importing a function (__inference_internal_grad_fn_1687858) with ops with unsaved custom gradients. Will likely fail if a gradient is requested.\n",
            "WARNING:absl:Importing a function (__inference_internal_grad_fn_1687218) with ops with unsaved custom gradients. Will likely fail if a gradient is requested.\n",
            "WARNING:absl:Importing a function (__inference_internal_grad_fn_1688058) with ops with unsaved custom gradients. Will likely fail if a gradient is requested.\n",
            "WARNING:absl:Importing a function (__inference_internal_grad_fn_1686008) with ops with unsaved custom gradients. Will likely fail if a gradient is requested.\n",
            "WARNING:absl:Importing a function (__inference_internal_grad_fn_1688158) with ops with unsaved custom gradients. Will likely fail if a gradient is requested.\n",
            "WARNING:absl:Importing a function (__inference_internal_grad_fn_1687998) with ops with unsaved custom gradients. Will likely fail if a gradient is requested.\n",
            "WARNING:absl:Importing a function (__inference_internal_grad_fn_1687718) with ops with unsaved custom gradients. Will likely fail if a gradient is requested.\n",
            "WARNING:absl:Importing a function (__inference_internal_grad_fn_1687968) with ops with unsaved custom gradients. Will likely fail if a gradient is requested.\n",
            "WARNING:absl:Importing a function (__inference_internal_grad_fn_1688228) with ops with unsaved custom gradients. Will likely fail if a gradient is requested.\n",
            "WARNING:absl:Importing a function (__inference_internal_grad_fn_1687768) with ops with unsaved custom gradients. Will likely fail if a gradient is requested.\n",
            "WARNING:absl:Importing a function (__inference_internal_grad_fn_1686648) with ops with unsaved custom gradients. Will likely fail if a gradient is requested.\n",
            "WARNING:absl:Importing a function (__inference_internal_grad_fn_1686698) with ops with unsaved custom gradients. Will likely fail if a gradient is requested.\n",
            "WARNING:absl:Importing a function (__inference_internal_grad_fn_1685758) with ops with unsaved custom gradients. Will likely fail if a gradient is requested.\n",
            "WARNING:absl:Importing a function (__inference_internal_grad_fn_1686368) with ops with unsaved custom gradients. Will likely fail if a gradient is requested.\n",
            "WARNING:absl:Importing a function (__inference_internal_grad_fn_1686288) with ops with unsaved custom gradients. Will likely fail if a gradient is requested.\n",
            "WARNING:absl:Importing a function (__inference_internal_grad_fn_1686738) with ops with unsaved custom gradients. Will likely fail if a gradient is requested.\n",
            "WARNING:absl:Importing a function (__inference_internal_grad_fn_1687278) with ops with unsaved custom gradients. Will likely fail if a gradient is requested.\n",
            "WARNING:absl:Importing a function (__inference_internal_grad_fn_1688248) with ops with unsaved custom gradients. Will likely fail if a gradient is requested.\n",
            "WARNING:absl:Importing a function (__inference_internal_grad_fn_1688038) with ops with unsaved custom gradients. Will likely fail if a gradient is requested.\n",
            "WARNING:absl:Importing a function (__inference_internal_grad_fn_1687448) with ops with unsaved custom gradients. Will likely fail if a gradient is requested.\n",
            "WARNING:absl:Importing a function (__inference_internal_grad_fn_1687198) with ops with unsaved custom gradients. Will likely fail if a gradient is requested.\n",
            "WARNING:absl:Importing a function (__inference_internal_grad_fn_1687708) with ops with unsaved custom gradients. Will likely fail if a gradient is requested.\n",
            "WARNING:absl:Importing a function (__inference_internal_grad_fn_1686378) with ops with unsaved custom gradients. Will likely fail if a gradient is requested.\n",
            "WARNING:absl:Importing a function (__inference_internal_grad_fn_1685808) with ops with unsaved custom gradients. Will likely fail if a gradient is requested.\n",
            "WARNING:absl:Importing a function (__inference_internal_grad_fn_1687798) with ops with unsaved custom gradients. Will likely fail if a gradient is requested.\n",
            "WARNING:absl:Importing a function (__inference_internal_grad_fn_1685868) with ops with unsaved custom gradients. Will likely fail if a gradient is requested.\n",
            "WARNING:absl:Importing a function (__inference_internal_grad_fn_1685828) with ops with unsaved custom gradients. Will likely fail if a gradient is requested.\n",
            "WARNING:absl:Importing a function (__inference_internal_grad_fn_1686548) with ops with unsaved custom gradients. Will likely fail if a gradient is requested.\n",
            "WARNING:absl:Importing a function (__inference_internal_grad_fn_1687488) with ops with unsaved custom gradients. Will likely fail if a gradient is requested.\n",
            "WARNING:absl:Importing a function (__inference_internal_grad_fn_1688088) with ops with unsaved custom gradients. Will likely fail if a gradient is requested.\n",
            "WARNING:absl:Importing a function (__inference_internal_grad_fn_1686928) with ops with unsaved custom gradients. Will likely fail if a gradient is requested.\n",
            "WARNING:absl:Importing a function (__inference_internal_grad_fn_1687778) with ops with unsaved custom gradients. Will likely fail if a gradient is requested.\n",
            "WARNING:absl:Importing a function (__inference_internal_grad_fn_1687978) with ops with unsaved custom gradients. Will likely fail if a gradient is requested.\n",
            "WARNING:absl:Importing a function (__inference_internal_grad_fn_1687688) with ops with unsaved custom gradients. Will likely fail if a gradient is requested.\n",
            "WARNING:absl:Importing a function (__inference_internal_grad_fn_1686478) with ops with unsaved custom gradients. Will likely fail if a gradient is requested.\n",
            "WARNING:absl:Importing a function (__inference_internal_grad_fn_1685978) with ops with unsaved custom gradients. Will likely fail if a gradient is requested.\n",
            "WARNING:absl:Importing a function (__inference_internal_grad_fn_1686468) with ops with unsaved custom gradients. Will likely fail if a gradient is requested.\n",
            "WARNING:absl:Importing a function (__inference_internal_grad_fn_1686128) with ops with unsaved custom gradients. Will likely fail if a gradient is requested.\n",
            "WARNING:absl:Importing a function (__inference_internal_grad_fn_1686998) with ops with unsaved custom gradients. Will likely fail if a gradient is requested.\n",
            "WARNING:absl:Importing a function (__inference_internal_grad_fn_1688238) with ops with unsaved custom gradients. Will likely fail if a gradient is requested.\n",
            "WARNING:absl:Importing a function (__inference_internal_grad_fn_1687518) with ops with unsaved custom gradients. Will likely fail if a gradient is requested.\n",
            "WARNING:absl:Importing a function (__inference_internal_grad_fn_1686358) with ops with unsaved custom gradients. Will likely fail if a gradient is requested.\n",
            "WARNING:absl:Importing a function (__inference_internal_grad_fn_1687918) with ops with unsaved custom gradients. Will likely fail if a gradient is requested.\n",
            "WARNING:absl:Importing a function (__inference_internal_grad_fn_1687568) with ops with unsaved custom gradients. Will likely fail if a gradient is requested.\n",
            "WARNING:absl:Importing a function (__inference_internal_grad_fn_1687088) with ops with unsaved custom gradients. Will likely fail if a gradient is requested.\n",
            "WARNING:absl:Importing a function (__inference_internal_grad_fn_1686458) with ops with unsaved custom gradients. Will likely fail if a gradient is requested.\n",
            "WARNING:absl:Importing a function (__inference_internal_grad_fn_1687378) with ops with unsaved custom gradients. Will likely fail if a gradient is requested.\n",
            "WARNING:absl:Importing a function (__inference_internal_grad_fn_1687938) with ops with unsaved custom gradients. Will likely fail if a gradient is requested.\n",
            "WARNING:absl:Importing a function (__inference_internal_grad_fn_1687808) with ops with unsaved custom gradients. Will likely fail if a gradient is requested.\n",
            "WARNING:absl:Importing a function (__inference_internal_grad_fn_1687238) with ops with unsaved custom gradients. Will likely fail if a gradient is requested.\n",
            "WARNING:absl:Importing a function (__inference_internal_grad_fn_1686988) with ops with unsaved custom gradients. Will likely fail if a gradient is requested.\n",
            "WARNING:absl:Importing a function (__inference_internal_grad_fn_1685778) with ops with unsaved custom gradients. Will likely fail if a gradient is requested.\n",
            "WARNING:absl:Importing a function (__inference_internal_grad_fn_1687658) with ops with unsaved custom gradients. Will likely fail if a gradient is requested.\n",
            "WARNING:absl:Importing a function (__inference_internal_grad_fn_1687548) with ops with unsaved custom gradients. Will likely fail if a gradient is requested.\n",
            "WARNING:absl:Importing a function (__inference_internal_grad_fn_1686638) with ops with unsaved custom gradients. Will likely fail if a gradient is requested.\n",
            "WARNING:absl:Importing a function (__inference_internal_grad_fn_1687418) with ops with unsaved custom gradients. Will likely fail if a gradient is requested.\n",
            "WARNING:absl:Importing a function (__inference_internal_grad_fn_1687158) with ops with unsaved custom gradients. Will likely fail if a gradient is requested.\n",
            "WARNING:absl:Importing a function (__inference_internal_grad_fn_1685768) with ops with unsaved custom gradients. Will likely fail if a gradient is requested.\n",
            "WARNING:absl:Importing a function (__inference_internal_grad_fn_1687178) with ops with unsaved custom gradients. Will likely fail if a gradient is requested.\n",
            "WARNING:absl:Importing a function (__inference_internal_grad_fn_1686028) with ops with unsaved custom gradients. Will likely fail if a gradient is requested.\n",
            "WARNING:absl:Importing a function (__inference_internal_grad_fn_1685858) with ops with unsaved custom gradients. Will likely fail if a gradient is requested.\n",
            "WARNING:absl:Importing a function (__inference_internal_grad_fn_1686938) with ops with unsaved custom gradients. Will likely fail if a gradient is requested.\n",
            "WARNING:absl:Importing a function (__inference_internal_grad_fn_1686058) with ops with unsaved custom gradients. Will likely fail if a gradient is requested.\n",
            "WARNING:absl:Importing a function (__inference_internal_grad_fn_1686038) with ops with unsaved custom gradients. Will likely fail if a gradient is requested.\n",
            "WARNING:absl:Importing a function (__inference_internal_grad_fn_1687698) with ops with unsaved custom gradients. Will likely fail if a gradient is requested.\n",
            "WARNING:absl:Importing a function (__inference_internal_grad_fn_1686408) with ops with unsaved custom gradients. Will likely fail if a gradient is requested.\n",
            "WARNING:absl:Importing a function (__inference_internal_grad_fn_1687878) with ops with unsaved custom gradients. Will likely fail if a gradient is requested.\n",
            "WARNING:absl:Importing a function (__inference_internal_grad_fn_1687668) with ops with unsaved custom gradients. Will likely fail if a gradient is requested.\n",
            "WARNING:absl:Importing a function (__inference_internal_grad_fn_1687028) with ops with unsaved custom gradients. Will likely fail if a gradient is requested.\n",
            "WARNING:absl:Importing a function (__inference_internal_grad_fn_1685928) with ops with unsaved custom gradients. Will likely fail if a gradient is requested.\n",
            "WARNING:absl:Importing a function (__inference_internal_grad_fn_1686858) with ops with unsaved custom gradients. Will likely fail if a gradient is requested.\n",
            "WARNING:absl:Importing a function (__inference_internal_grad_fn_1686078) with ops with unsaved custom gradients. Will likely fail if a gradient is requested.\n",
            "WARNING:absl:Importing a function (__inference_internal_grad_fn_1687428) with ops with unsaved custom gradients. Will likely fail if a gradient is requested.\n",
            "WARNING:absl:Importing a function (__inference_internal_grad_fn_1686788) with ops with unsaved custom gradients. Will likely fail if a gradient is requested.\n",
            "WARNING:absl:Importing a function (__inference_internal_grad_fn_1686138) with ops with unsaved custom gradients. Will likely fail if a gradient is requested.\n",
            "WARNING:absl:Importing a function (__inference_internal_grad_fn_1686538) with ops with unsaved custom gradients. Will likely fail if a gradient is requested.\n",
            "WARNING:absl:Importing a function (__inference_internal_grad_fn_1686598) with ops with unsaved custom gradients. Will likely fail if a gradient is requested.\n",
            "WARNING:absl:Importing a function (__inference_internal_grad_fn_1686518) with ops with unsaved custom gradients. Will likely fail if a gradient is requested.\n",
            "WARNING:absl:Importing a function (__inference_internal_grad_fn_1688128) with ops with unsaved custom gradients. Will likely fail if a gradient is requested.\n",
            "WARNING:absl:Importing a function (__inference_internal_grad_fn_1688108) with ops with unsaved custom gradients. Will likely fail if a gradient is requested.\n",
            "WARNING:absl:Importing a function (__inference_internal_grad_fn_1687338) with ops with unsaved custom gradients. Will likely fail if a gradient is requested.\n",
            "WARNING:absl:Importing a function (__inference_internal_grad_fn_1686568) with ops with unsaved custom gradients. Will likely fail if a gradient is requested.\n",
            "WARNING:absl:Importing a function (__inference_internal_grad_fn_1686278) with ops with unsaved custom gradients. Will likely fail if a gradient is requested.\n",
            "WARNING:absl:Importing a function (__inference_internal_grad_fn_1686838) with ops with unsaved custom gradients. Will likely fail if a gradient is requested.\n",
            "WARNING:absl:Importing a function (__inference_internal_grad_fn_1687388) with ops with unsaved custom gradients. Will likely fail if a gradient is requested.\n",
            "WARNING:absl:Importing a function (__inference_internal_grad_fn_1686348) with ops with unsaved custom gradients. Will likely fail if a gradient is requested.\n",
            "WARNING:absl:Importing a function (__inference_internal_grad_fn_1686268) with ops with unsaved custom gradients. Will likely fail if a gradient is requested.\n",
            "WARNING:absl:Importing a function (__inference_internal_grad_fn_1688198) with ops with unsaved custom gradients. Will likely fail if a gradient is requested.\n",
            "WARNING:absl:Importing a function (__inference_internal_grad_fn_1687098) with ops with unsaved custom gradients. Will likely fail if a gradient is requested.\n",
            "WARNING:absl:Importing a function (__inference_internal_grad_fn_1687208) with ops with unsaved custom gradients. Will likely fail if a gradient is requested.\n",
            "WARNING:absl:Importing a function (__inference_internal_grad_fn_1687288) with ops with unsaved custom gradients. Will likely fail if a gradient is requested.\n",
            "WARNING:absl:Importing a function (__inference_internal_grad_fn_1686198) with ops with unsaved custom gradients. Will likely fail if a gradient is requested.\n",
            "WARNING:absl:Importing a function (__inference_internal_grad_fn_1687168) with ops with unsaved custom gradients. Will likely fail if a gradient is requested.\n",
            "WARNING:absl:Importing a function (__inference_internal_grad_fn_1687258) with ops with unsaved custom gradients. Will likely fail if a gradient is requested.\n",
            "WARNING:absl:Importing a function (__inference_internal_grad_fn_1687508) with ops with unsaved custom gradients. Will likely fail if a gradient is requested.\n",
            "WARNING:absl:Importing a function (__inference_internal_grad_fn_1687848) with ops with unsaved custom gradients. Will likely fail if a gradient is requested.\n",
            "WARNING:absl:Importing a function (__inference_internal_grad_fn_1687308) with ops with unsaved custom gradients. Will likely fail if a gradient is requested.\n",
            "WARNING:absl:Importing a function (__inference_internal_grad_fn_1686628) with ops with unsaved custom gradients. Will likely fail if a gradient is requested.\n",
            "WARNING:absl:Importing a function (__inference_internal_grad_fn_1685838) with ops with unsaved custom gradients. Will likely fail if a gradient is requested.\n",
            "WARNING:absl:Importing a function (__inference_internal_grad_fn_1686228) with ops with unsaved custom gradients. Will likely fail if a gradient is requested.\n",
            "WARNING:absl:Importing a function (__inference_internal_grad_fn_1686118) with ops with unsaved custom gradients. Will likely fail if a gradient is requested.\n",
            "WARNING:absl:Importing a function (__inference_internal_grad_fn_1686618) with ops with unsaved custom gradients. Will likely fail if a gradient is requested.\n",
            "WARNING:absl:Importing a function (__inference_internal_grad_fn_1686108) with ops with unsaved custom gradients. Will likely fail if a gradient is requested.\n",
            "WARNING:absl:Importing a function (__inference_internal_grad_fn_1688068) with ops with unsaved custom gradients. Will likely fail if a gradient is requested.\n",
            "WARNING:absl:Importing a function (__inference_internal_grad_fn_1687048) with ops with unsaved custom gradients. Will likely fail if a gradient is requested.\n",
            "WARNING:absl:Importing a function (__inference_internal_grad_fn_1686828) with ops with unsaved custom gradients. Will likely fail if a gradient is requested.\n",
            "WARNING:absl:Importing a function (__inference_internal_grad_fn_1687958) with ops with unsaved custom gradients. Will likely fail if a gradient is requested.\n",
            "WARNING:absl:Importing a function (__inference_internal_grad_fn_1687598) with ops with unsaved custom gradients. Will likely fail if a gradient is requested.\n",
            "WARNING:absl:Importing a function (__inference_internal_grad_fn_1687588) with ops with unsaved custom gradients. Will likely fail if a gradient is requested.\n",
            "WARNING:absl:Importing a function (__inference_internal_grad_fn_1687148) with ops with unsaved custom gradients. Will likely fail if a gradient is requested.\n",
            "WARNING:absl:Importing a function (__inference_internal_grad_fn_1686148) with ops with unsaved custom gradients. Will likely fail if a gradient is requested.\n",
            "WARNING:absl:Importing a function (__inference_internal_grad_fn_1687008) with ops with unsaved custom gradients. Will likely fail if a gradient is requested.\n",
            "WARNING:absl:Importing a function (__inference_internal_grad_fn_1686328) with ops with unsaved custom gradients. Will likely fail if a gradient is requested.\n",
            "WARNING:absl:Importing a function (__inference_internal_grad_fn_1686018) with ops with unsaved custom gradients. Will likely fail if a gradient is requested.\n",
            "WARNING:absl:Importing a function (__inference_internal_grad_fn_1686948) with ops with unsaved custom gradients. Will likely fail if a gradient is requested.\n",
            "WARNING:tensorflow:No training configuration found in save file, so the model was *not* compiled. Compile it manually.\n",
            "WARNING:tensorflow:No training configuration found in save file, so the model was *not* compiled. Compile it manually.\n",
            "WARNING:tensorflow:No training configuration found in save file, so the model was *not* compiled. Compile it manually.\n"
          ]
        }
      ],
      "source": [
        "contrastive_model = tfsim.models.contrastive_model.load_model(DATA_PATH / \"models\" / f\"trained_model\")"
      ]
    },
    {
      "cell_type": "markdown",
      "metadata": {
        "tags": [],
        "id": "B40nP9GqtNsq"
      },
      "source": [
        "## Evaluation\n",
        " \n",
        "This final section trains two different classifiers.\n",
        " \n",
        "1. No Pre-training: Uses a ResNet18 model and a simple linear layer.\n",
        " \n",
        "2. Pre-trained: Uses the frozen pre-trained backbone from the ContrastiveModel and only trains the weights in the linear layer.\n"
      ]
    },
    {
      "cell_type": "code",
      "execution_count": 36,
      "metadata": {
        "id": "vGDMETLbtNsq"
      },
      "outputs": [],
      "source": [
        "TEST_EPOCHS = 10\n",
        "TEST_STEPS_PER_EPOCH = int(len(x_train) // BATCH_SIZE)"
      ]
    },
    {
      "cell_type": "code",
      "execution_count": 37,
      "metadata": {
        "id": "MDa6_4iMtNsq"
      },
      "outputs": [],
      "source": [
        "@tf.function\n",
        "def eval_augmenter(image):\n",
        "    # random resize and crop\n",
        "    image = tfsim.augmenters.augmentation_utils.cropping.crop_and_resize(\n",
        "        image, IMAGE_SIZE, IMAGE_SIZE, area_range=(0.2, 1.0)\n",
        "    )\n",
        "    # random horizontal flip\n",
        "    image = tf.image.random_flip_left_right(image)\n",
        "    image = tf.clip_by_value(image, 0., 255.)\n",
        "\n",
        "    return image"
      ]
    },
    {
      "cell_type": "code",
      "execution_count": 38,
      "metadata": {
        "id": "rQEK74XjtNsq"
      },
      "outputs": [],
      "source": [
        "def get_eval_model(image_size, backbone, total_steps, trainable=True, lr=1.8):\n",
        "    backbone.trainable = trainable\n",
        "    inputs = tf.keras.layers.Input((image_size, image_size, 3), name=\"eval_input\")\n",
        "    x = backbone(inputs, training=trainable)\n",
        "    o = tf.keras.layers.Dense(3, activation=\"softmax\")(x)\n",
        "    model = tf.keras.Model(inputs, o)\n",
        "    cosine_decayed_lr = tf.keras.experimental.CosineDecay(initial_learning_rate=lr, decay_steps=total_steps)\n",
        "    opt = tf.keras.optimizers.SGD(cosine_decayed_lr, momentum=0.9)\n",
        "    model.compile(optimizer=opt, loss=\"categorical_crossentropy\", metrics=[\"acc\"])\n",
        "    return model"
      ]
    },
    {
      "cell_type": "code",
      "execution_count": 39,
      "metadata": {
        "id": "ruAR8YCCtNsq"
      },
      "outputs": [],
      "source": [
        "eval_train_data = tf.data.Dataset.from_tensor_slices((x_train, tf.keras.utils.to_categorical(y_train, 3)))\n",
        "eval_train_data = eval_train_data.repeat()\n",
        "eval_train_data = eval_train_data.shuffle(1024)\n",
        "eval_train_data = eval_train_data.map(lambda x, y: (eval_augmenter(x), y), tf.data.AUTOTUNE)\n",
        "eval_train_data = eval_train_data.map(lambda x, y: (img_scaling(x), y), tf.data.AUTOTUNE)\n",
        "eval_train_data = eval_train_data.batch(BATCH_SIZE)\n",
        "eval_train_data = eval_train_data.prefetch(tf.data.AUTOTUNE)\n",
        "\n",
        "eval_val_data = tf.data.Dataset.from_tensor_slices((x_val, tf.keras.utils.to_categorical(y_val, 3)))\n",
        "eval_val_data = eval_val_data.repeat()\n",
        "eval_val_data = eval_val_data.shuffle(1024)\n",
        "eval_val_data = eval_val_data.map(lambda x, y: (img_scaling(tf.cast(x, dtype=tf.float32)), y), tf.data.AUTOTUNE)\n",
        "eval_val_data = eval_val_data.batch(BATCH_SIZE)\n",
        "eval_val_data = eval_val_data.prefetch(tf.data.AUTOTUNE)\n",
        "\n",
        "eval_test_data = tf.data.Dataset.from_tensor_slices((x_test, tf.keras.utils.to_categorical(y_test, 3)))\n",
        "eval_test_data = eval_test_data.map(lambda x, y: (img_scaling(tf.cast(x, dtype=tf.float32)), y), tf.data.AUTOTUNE)\n",
        "eval_test_data = eval_test_data.batch(BATCH_SIZE)\n",
        "eval_test_data = eval_test_data.prefetch(tf.data.AUTOTUNE)"
      ]
    },
    {
      "cell_type": "markdown",
      "metadata": {
        "id": "Ujog3AzGtNsq"
      },
      "source": [
        "### No Pretrain"
      ]
    },
    {
      "cell_type": "code",
      "execution_count": 44,
      "metadata": {
        "colab": {
          "base_uri": "https://localhost:8080/"
        },
        "id": "c8BGWI0ptNsq",
        "outputId": "522b5bee-f69a-415b-b178-0738c031b900"
      },
      "outputs": [
        {
          "output_type": "stream",
          "name": "stdout",
          "text": [
            "Epoch 1/10\n",
            "4/4 [==============================] - 12s 2s/step - loss: 1.1840 - acc: 0.3232 - val_loss: 1.1351 - val_acc: 0.3379\n",
            "Epoch 2/10\n",
            "4/4 [==============================] - 5s 2s/step - loss: 1.0741 - acc: 0.4146 - val_loss: 1.1497 - val_acc: 0.2887\n",
            "Epoch 3/10\n",
            "4/4 [==============================] - 5s 2s/step - loss: 1.0222 - acc: 0.4595 - val_loss: 1.0503 - val_acc: 0.3636\n",
            "Epoch 4/10\n",
            "4/4 [==============================] - 5s 2s/step - loss: 0.9610 - acc: 0.5229 - val_loss: 0.9681 - val_acc: 0.5491\n",
            "Epoch 5/10\n",
            "4/4 [==============================] - 5s 2s/step - loss: 0.9127 - acc: 0.5854 - val_loss: 0.9015 - val_acc: 0.6055\n",
            "Epoch 6/10\n",
            "4/4 [==============================] - 5s 2s/step - loss: 0.8910 - acc: 0.6226 - val_loss: 0.8421 - val_acc: 0.7306\n",
            "Epoch 7/10\n",
            "4/4 [==============================] - 5s 2s/step - loss: 0.8418 - acc: 0.6436 - val_loss: 0.8120 - val_acc: 0.7871\n",
            "Epoch 8/10\n",
            "4/4 [==============================] - 5s 2s/step - loss: 0.8565 - acc: 0.6230 - val_loss: 0.7938 - val_acc: 0.7604\n",
            "Epoch 9/10\n",
            "4/4 [==============================] - 6s 2s/step - loss: 0.8263 - acc: 0.6392 - val_loss: 0.7827 - val_acc: 0.7630\n",
            "Epoch 10/10\n",
            "4/4 [==============================] - 6s 2s/step - loss: 0.7990 - acc: 0.6616 - val_loss: 0.7748 - val_acc: 0.7643\n"
          ]
        }
      ],
      "source": [
        "no_pretrain_eval_model = get_eval_model(\n",
        "    image_size=IMAGE_SIZE,\n",
        "    backbone=get_backbone(IMAGE_SIZE, DIM),\n",
        "    total_steps=TEST_EPOCHS * TEST_STEPS_PER_EPOCH,\n",
        "    trainable=True,\n",
        "    lr=1e-3,\n",
        ")\n",
        "no_pretrain_history = no_pretrain_eval_model.fit(\n",
        "    eval_train_data,\n",
        "    batch_size=BATCH_SIZE,\n",
        "    epochs=TEST_EPOCHS,\n",
        "    steps_per_epoch=TEST_STEPS_PER_EPOCH,\n",
        "    validation_data=eval_val_data,\n",
        "    validation_steps=VAL_STEPS_PER_EPOCH,\n",
        ")"
      ]
    },
    {
      "cell_type": "markdown",
      "metadata": {
        "id": "tqOfCgb7tNsq"
      },
      "source": [
        "### Pretrained"
      ]
    },
    {
      "cell_type": "code",
      "execution_count": 45,
      "metadata": {
        "colab": {
          "base_uri": "https://localhost:8080/"
        },
        "id": "ACTP-T3HtNsq",
        "outputId": "709d423c-482d-4ba1-81c0-ac01e89aac9e"
      },
      "outputs": [
        {
          "output_type": "stream",
          "name": "stdout",
          "text": [
            "Model: \"model_3\"\n",
            "_________________________________________________________________\n",
            " Layer (type)                Output Shape              Param #   \n",
            "=================================================================\n",
            " eval_input (InputLayer)     [(None, 32, 32, 3)]       0         \n",
            "                                                                 \n",
            " resnet18sim (SimilarityMode  (None, 512)              11182784  \n",
            " l)                                                              \n",
            "                                                                 \n",
            " dense_3 (Dense)             (None, 3)                 1539      \n",
            "                                                                 \n",
            "=================================================================\n",
            "Total params: 11,184,323\n",
            "Trainable params: 1,539\n",
            "Non-trainable params: 11,182,784\n",
            "_________________________________________________________________\n"
          ]
        }
      ],
      "source": [
        "pretrain_eval_model = get_eval_model(\n",
        "    image_size=IMAGE_SIZE,\n",
        "    backbone=contrastive_model.backbone,\n",
        "    total_steps=TEST_EPOCHS * TEST_STEPS_PER_EPOCH,\n",
        "    trainable=False,\n",
        "    lr=30.0,\n",
        ")\n",
        "pretrain_eval_model.summary()"
      ]
    },
    {
      "cell_type": "code",
      "execution_count": 46,
      "metadata": {
        "colab": {
          "base_uri": "https://localhost:8080/"
        },
        "id": "7FjI3zG_tNsr",
        "outputId": "0c0064f6-1c3a-4704-fb24-e263cb2385db"
      },
      "outputs": [
        {
          "output_type": "stream",
          "name": "stdout",
          "text": [
            "Epoch 1/10\n",
            "4/4 [==============================] - 5s 1s/step - loss: 913.2408 - acc: 0.3545 - val_loss: 1647.3418 - val_acc: 0.3328\n",
            "Epoch 2/10\n",
            "4/4 [==============================] - 3s 997ms/step - loss: 948.3001 - acc: 0.3394 - val_loss: 1619.3373 - val_acc: 0.3325\n",
            "Epoch 3/10\n",
            "4/4 [==============================] - 3s 1s/step - loss: 1202.0626 - acc: 0.3311 - val_loss: 1463.4761 - val_acc: 0.3329\n",
            "Epoch 4/10\n",
            "4/4 [==============================] - 3s 1s/step - loss: 1021.9335 - acc: 0.3584 - val_loss: 1009.9676 - val_acc: 0.1963\n",
            "Epoch 5/10\n",
            "4/4 [==============================] - 3s 1s/step - loss: 622.0041 - acc: 0.3984 - val_loss: 984.3065 - val_acc: 0.4332\n",
            "Epoch 6/10\n",
            "4/4 [==============================] - 3s 1s/step - loss: 684.1860 - acc: 0.3877 - val_loss: 740.0826 - val_acc: 0.3508\n",
            "Epoch 7/10\n",
            "4/4 [==============================] - 3s 1s/step - loss: 634.4424 - acc: 0.4307 - val_loss: 713.6334 - val_acc: 0.3527\n",
            "Epoch 8/10\n",
            "4/4 [==============================] - 3s 1s/step - loss: 509.3498 - acc: 0.4282 - val_loss: 630.1271 - val_acc: 0.3336\n",
            "Epoch 9/10\n",
            "4/4 [==============================] - 3s 1s/step - loss: 560.1077 - acc: 0.3994 - val_loss: 654.5449 - val_acc: 0.3529\n",
            "Epoch 10/10\n",
            "4/4 [==============================] - 3s 1s/step - loss: 570.0865 - acc: 0.3921 - val_loss: 551.8489 - val_acc: 0.3516\n"
          ]
        }
      ],
      "source": [
        "pretrain_history = pretrain_eval_model.fit(\n",
        "    eval_train_data,\n",
        "    batch_size=BATCH_SIZE,\n",
        "    epochs=TEST_EPOCHS,\n",
        "    steps_per_epoch=TEST_STEPS_PER_EPOCH,\n",
        "    validation_data=eval_val_data,\n",
        "    validation_steps=VAL_STEPS_PER_EPOCH,\n",
        ")"
      ]
    },
    {
      "cell_type": "markdown",
      "metadata": {
        "tags": [],
        "id": "NZPNVJR4tNsr"
      },
      "source": [
        "### Comparison"
      ]
    },
    {
      "cell_type": "code",
      "execution_count": 47,
      "metadata": {
        "colab": {
          "base_uri": "https://localhost:8080/"
        },
        "id": "1KcGyyggtNsr",
        "outputId": "e32ec42d-bff5-4353-d570-f0586565a399"
      },
      "outputs": [
        {
          "output_type": "stream",
          "name": "stdout",
          "text": [
            "1/1 [==============================] - 1s 1s/step - loss: 445.4172 - acc: 0.3333\n",
            "simsiam: No Pretrain [445.4172058105469, 0.3333333432674408]\n",
            "1/1 [==============================] - 0s 147ms/step - loss: 0.8770 - acc: 0.6129\n",
            "simsiam: Pretrain [0.8769866228103638, 0.6129032373428345]\n"
          ]
        }
      ],
      "source": [
        "print(str(ALGORITHM)+\": No Pretrain\", pretrain_eval_model.evaluate(eval_test_data))\n",
        "print(str(ALGORITHM)+\": Pretrain\", no_pretrain_eval_model.evaluate(eval_test_data))"
      ]
    }
  ],
  "metadata": {
    "environment": {
      "kernel": "python3",
      "name": "tf2-gpu.2-8.m91",
      "type": "gcloud",
      "uri": "gcr.io/deeplearning-platform-release/tf2-gpu.2-8:m91"
    },
    "interpreter": {
      "hash": "cada0c3e68bbe3038c05f3f13c34d05fb5411cc128b62a4a529880c33c3268c3"
    },
    "kernelspec": {
      "display_name": "Python 3",
      "language": "python",
      "name": "python3"
    },
    "language_info": {
      "codemirror_mode": {
        "name": "ipython",
        "version": 3
      },
      "file_extension": ".py",
      "mimetype": "text/x-python",
      "name": "python",
      "nbconvert_exporter": "python",
      "pygments_lexer": "ipython3",
      "version": "3.7.12"
    },
    "colab": {
      "provenance": []
    },
    "accelerator": "GPU",
    "gpuClass": "standard"
  },
  "nbformat": 4,
  "nbformat_minor": 0
}